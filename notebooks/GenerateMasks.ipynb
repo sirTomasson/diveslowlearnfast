{
 "cells": [
  {
   "cell_type": "code",
   "id": "initial_id",
   "metadata": {
    "collapsed": true,
    "ExecuteTime": {
     "end_time": "2025-04-08T09:15:50.298823Z",
     "start_time": "2025-04-08T09:15:48.892112Z"
    }
   },
   "source": [
    "%load_ext autoreload\n",
    "%autoreload 2\n",
    "\n",
    "import torch\n",
    "\n",
    "import matplotlib.pyplot as plt\n",
    "import numpy as np\n",
    "from torch.utils.data import DataLoader\n",
    "from diveslowlearnfast.datasets import Diving48Dataset\n",
    "from diveslowlearnfast.egl.explainer import ExplainerStrategy\n",
    "from diveslowlearnfast.train.helper import get_test_transform\n",
    "from diveslowlearnfast.models import SlowFast, load_checkpoint\n",
    "from diveslowlearnfast.config import Config\n",
    "from diveslowlearnfast.visualise.gradcam import GradCAM\n",
    "from diveslowlearnfast.train import helper as train_helper, StatsDB\n",
    "from diveslowlearnfast.egl import helper as egl_helper\n",
    "\n",
    "cfg = Config()\n",
    "cfg.DATA.DATASET_PATH = '/Users/youritomassen/Projects/xai/data/Diving48/'\n",
    "cfg.TRAIN.BATCH_SIZE = 2\n",
    "# cfg.GRADCAM.TARGET_LAYERS = ['head/pathway0_avgpool', 'head/pathway1_avgpool']\n",
    "cfg.GRADCAM.TARGET_LAYERS = ['s5/pathway0_res2', 's5/pathway0_res2']\n",
    "device = torch.device('cpu')\n",
    "model = SlowFast(cfg)\n",
    "_, optimiser, *_ = train_helper.get_train_objects(cfg, model)\n",
    "model, *_ = load_checkpoint(model, '../misc/checkpoint.pth', optimiser, device)\n",
    "explainer = ExplainerStrategy.get_explainer(model, cfg=cfg, device=device)\n",
    "\n",
    "stats_db = StatsDB('./data/stats.db')\n",
    "difficult_samples = stats_db.get_below_median_samples(\n",
    "    epoch_start=90,\n",
    "    run_id='/home/s2871513/Projects/diveslowlearnfast/results/run18',\n",
    "    split='train'\n",
    ")\n",
    "\n",
    "video_ids = list(map(lambda x: x[0], difficult_samples))\n",
    "\n",
    "train_dataset = Diving48Dataset(\n",
    "    cfg.DATA.DATASET_PATH,\n",
    "    cfg.DATA.NUM_FRAMES,\n",
    "    dataset_type='train',\n",
    "    transform_fn=get_test_transform(cfg), # use test_transform instead\n",
    "    use_decord=cfg.DATA_LOADER.USE_DECORD,\n",
    "    temporal_random_jitter=cfg.DATA.TEMPORAL_RANDOM_JITTER,\n",
    "    temporal_random_offset=cfg.DATA.TEMPORAL_RANDOM_OFFSET,\n",
    "    multi_thread_decode=cfg.DATA.MULTI_THREAD_DECODE,\n",
    "    threshold=cfg.DATA.THRESHOLD,\n",
    "    use_dynamic_temporal_stride=cfg.DATA.USE_DYNAMIC_TEMPORAL_STRIDE,\n",
    "    video_ids=video_ids\n",
    ")\n",
    "\n",
    "train_loader = DataLoader(\n",
    "    train_dataset,\n",
    "    batch_size=cfg.TRAIN.BATCH_SIZE,\n",
    "    pin_memory=cfg.DATA_LOADER.PIN_MEMORY,\n",
    "    num_workers=cfg.DATA_LOADER.NUM_WORKERS,\n",
    "    shuffle=True,\n",
    ")"
   ],
   "outputs": [
    {
     "name": "stdout",
     "output_type": "stream",
     "text": [
      "The autoreload extension is already loaded. To reload it, use:\n",
      "  %reload_ext autoreload\n",
      "\n"
     ]
    }
   ],
   "execution_count": 2
  },
  {
   "metadata": {
    "ExecuteTime": {
     "end_time": "2025-02-10T13:03:49.954719Z",
     "start_time": "2025-02-10T13:03:21.653696Z"
    }
   },
   "cell_type": "code",
   "source": [
    "# xb, yb, _, _, loader_video_ids = next(train_loader_iter)\n",
    "xb, yb, *_ = next(iter(train_loader))"
   ],
   "id": "ded0acc6643c1aa7",
   "outputs": [],
   "execution_count": 2
  },
  {
   "metadata": {
    "ExecuteTime": {
     "end_time": "2025-02-10T13:04:36.276940Z",
     "start_time": "2025-02-10T13:04:31.358774Z"
    }
   },
   "cell_type": "code",
   "source": "exp = explainer(xb, yb)",
   "id": "303ae455a283476",
   "outputs": [],
   "execution_count": 4
  },
  {
   "metadata": {
    "ExecuteTime": {
     "end_time": "2025-02-10T13:06:08.054461Z",
     "start_time": "2025-02-10T13:06:08.018902Z"
    }
   },
   "cell_type": "code",
   "source": "np.median(exp, axis=(1, 2, 3, 4)).shape",
   "id": "699404d805e0efdf",
   "outputs": [
    {
     "data": {
      "text/plain": [
       "(2,)"
      ]
     },
     "execution_count": 15,
     "metadata": {},
     "output_type": "execute_result"
    }
   ],
   "execution_count": 15
  },
  {
   "metadata": {
    "ExecuteTime": {
     "end_time": "2025-02-10T13:07:52.218846Z",
     "start_time": "2025-02-10T13:07:52.184743Z"
    }
   },
   "cell_type": "code",
   "source": [
    "xb_fast = exp.squeeze(1) # remove dim 1\n",
    "m = np.median(xb_fast, axis=(1, 2, 3)).reshape((-1, 1, 1, 1)) < xb_fast.numpy()"
   ],
   "id": "d302516e4af6a0cc",
   "outputs": [],
   "execution_count": 21
  },
  {
   "metadata": {
    "ExecuteTime": {
     "end_time": "2025-02-10T13:07:53.119829Z",
     "start_time": "2025-02-10T13:07:53.101245Z"
    }
   },
   "cell_type": "code",
   "source": "m.shape",
   "id": "bd919e1111ea26b6",
   "outputs": [
    {
     "data": {
      "text/plain": [
       "(2, 32, 256, 256)"
      ]
     },
     "execution_count": 22,
     "metadata": {},
     "output_type": "execute_result"
    }
   ],
   "execution_count": 22
  },
  {
   "metadata": {
    "ExecuteTime": {
     "end_time": "2025-02-10T13:08:22.953686Z",
     "start_time": "2025-02-10T13:08:22.888822Z"
    }
   },
   "cell_type": "code",
   "source": [
    "plt.matshow(m[1][1], cmap='gray')\n",
    "plt.axis('off')"
   ],
   "id": "bd6a22637b2cbc8a",
   "outputs": [
    {
     "data": {
      "text/plain": [
       "(-0.5, 255.5, 255.5, -0.5)"
      ]
     },
     "execution_count": 26,
     "metadata": {},
     "output_type": "execute_result"
    },
    {
     "data": {
      "text/plain": [
       "<Figure size 480x480 with 1 Axes>"
      ],
      "image/png": "[encoded data removed]"
     },
     "metadata": {},
     "output_type": "display_data"
    }
   ],
   "execution_count": 26
  },
  {
   "metadata": {
    "ExecuteTime": {
     "end_time": "2025-02-10T12:41:39.007515Z",
     "start_time": "2025-02-10T12:41:38.956322Z"
    }
   },
   "cell_type": "code",
   "source": [
    "# invert the mask\n",
    "plt.matshow(~m, cmap='gray')\n",
    "plt.axis('off')\n",
    "plt.show()"
   ],
   "id": "a06ea93c1dd651e5",
   "outputs": [
    {
     "data": {
      "text/plain": [
       "<Figure size 480x480 with 1 Axes>"
      ],
      "image/png": "[encoded data removed]"
     },
     "metadata": {},
     "output_type": "display_data"
    }
   ],
   "execution_count": 23
  },
  {
   "metadata": {
    "ExecuteTime": {
     "end_time": "2025-02-10T13:12:16.224972Z",
     "start_time": "2025-02-10T13:12:16.163848Z"
    }
   },
   "cell_type": "code",
   "source": [
    "percentile = 50\n",
    "features = xb_fast.numpy()\n",
    "thresh = np.percentile(features, percentile, axis=(1,2,3))\n",
    "thresh = thresh.reshape((-1,1,1,1))\n",
    "\n",
    "m = features > thresh"
   ],
   "id": "cc233cd76a42063",
   "outputs": [],
   "execution_count": 28
  },
  {
   "metadata": {
    "ExecuteTime": {
     "end_time": "2025-02-10T13:12:17.653696Z",
     "start_time": "2025-02-10T13:12:17.634734Z"
    }
   },
   "cell_type": "code",
   "source": "m.shape",
   "id": "1f2714e14f1311db",
   "outputs": [
    {
     "data": {
      "text/plain": [
       "(2, 32, 256, 256)"
      ]
     },
     "execution_count": 29,
     "metadata": {},
     "output_type": "execute_result"
    }
   ],
   "execution_count": 29
  },
  {
   "metadata": {
    "ExecuteTime": {
     "end_time": "2025-02-10T13:13:06.230289Z",
     "start_time": "2025-02-10T13:13:06.171684Z"
    }
   },
   "cell_type": "code",
   "source": [
    "plt.matshow(m[0][0], cmap='gray')\n",
    "plt.axis('off')\n",
    "plt.show()"
   ],
   "id": "d2ebc618c59ef14b",
   "outputs": [
    {
     "data": {
      "text/plain": [
       "<Figure size 480x480 with 1 Axes>"
      ],
      "image/png": "[encoded data removed]"
     },
     "metadata": {},
     "output_type": "display_data"
    }
   ],
   "execution_count": 30
  },
  {
   "metadata": {
    "ExecuteTime": {
     "end_time": "2025-02-10T13:47:41.758737Z",
     "start_time": "2025-02-10T13:47:41.738911Z"
    }
   },
   "cell_type": "code",
   "source": "cfg.GRADCAM",
   "id": "eca623b326aa20ac",
   "outputs": [
    {
     "data": {
      "text/plain": [
       "<diveslowlearnfast.config.defaults.GradCAMConfig at 0x301eacb00>"
      ]
     },
     "execution_count": 32,
     "metadata": {},
     "output_type": "execute_result"
    }
   ],
   "execution_count": 32
  },
  {
   "metadata": {},
   "cell_type": "markdown",
   "source": [
    "## Mask Generation Creation Logic\n",
    "This section includes logic for when masks should be created. Do we create them only once? Or create them on a interval. If they already exist do we recreate them or do we want to reuse an existing cache."
   ],
   "id": "a0a3868981b9639c"
  },
  {
   "metadata": {
    "ExecuteTime": {
     "end_time": "2025-03-19T09:46:46.170973Z",
     "start_time": "2025-03-19T09:46:46.144539Z"
    }
   },
   "cell_type": "code",
   "source": [
    "import os\n",
    "\n",
    "def masks_exist(cfg: Config):\n",
    "    slow_masks_dir = os.path.join(cfg.EGL.MASKS_CACHE_DIR, 'slow')\n",
    "    fast_masks_dir = os.path.join(cfg.EGL.MASKS_CACHE_DIR, 'fast')\n",
    "    slow_masks_exist = os.path.isdir(slow_masks_dir) and len(os.listdir(slow_masks_dir)) > 0\n",
    "    fast_masks_exist = os.path.isdir(fast_masks_dir) and len(os.listdir(fast_masks_dir)) > 0\n",
    "    return slow_masks_exist and fast_masks_exist\n",
    "\n",
    "def should_generate_masks(cfg: Config, epoch):\n",
    "    if not cfg.EGL.ENABLED:\n",
    "        return False\n",
    "\n",
    "    if not masks_exist(cfg):\n",
    "        return True\n",
    "\n",
    "    return cfg.EGL.MASKS_PERIOD != -1 and (epoch % cfg.EGL.MASKS_PERIOD) == 0\n",
    "\n",
    "epoch = 10"
   ],
   "id": "31e1d326d23b16c5",
   "outputs": [],
   "execution_count": 81
  },
  {
   "metadata": {
    "ExecuteTime": {
     "end_time": "2025-03-19T09:48:04.529860Z",
     "start_time": "2025-03-19T09:48:04.505185Z"
    }
   },
   "cell_type": "code",
   "source": [
    "cfg.EGL.MASKS_CACHE_DIR = '.masks'\n",
    "\n",
    "assert masks_exist(cfg)\n",
    "\n",
    "cfg.EGL.MASKS_CACHE_DIR = 'data/.masks'\n",
    "\n",
    "assert masks_exist(cfg) == False\n",
    "\n",
    "\n",
    "cfg.EGL.ENABLED = False\n",
    "assert should_generate_masks(cfg, epoch) == False\n",
    "\n",
    "cfg.EGL.ENABLED = True\n",
    "cfg.EGL.MASKS_PERIOD = -1\n",
    "epoch = 0\n",
    "cfg.EGL.MASKS_CACHE_DIR = '.masks'\n",
    "assert should_generate_masks(cfg, epoch) == False\n",
    "\n",
    "\n",
    "cfg.EGL.MASKS_CACHE_DIR = 'data/.masks'\n",
    "assert should_generate_masks(cfg, epoch)\n",
    "\n",
    "cfg.EGL.MASKS_PERIOD = 10\n",
    "epoch = 1\n",
    "assert should_generate_masks(cfg, epoch) == True\n",
    "\n",
    "epoch = 0\n",
    "cfg.EGL.MASKS_CACHE_DIR = '.masks'\n",
    "assert should_generate_masks(cfg, epoch)\n",
    "\n",
    "cfg.EGL.MASKS_CACHE_DIR = 'data/.masks'\n",
    "assert should_generate_masks(cfg, epoch)\n",
    "\n",
    "\n",
    "epoch = 1\n",
    "assert should_generate_masks(cfg, epoch)\n",
    "\n",
    "epoch = 10\n",
    "assert should_generate_masks(cfg, epoch) == True"
   ],
   "id": "bc9d2038c4e519dc",
   "outputs": [],
   "execution_count": 86
  },
  {
   "metadata": {},
   "cell_type": "markdown",
   "source": [
    "## Testing Confounder Mask Creation\n",
    "Previously we relied on generating the confounder masks and writing them to disk; similar to how other masks are created. But this has the downside of creating a huge cache when we need to consider all examples, this happens specifically when we run the unlearning experiment."
   ],
   "id": "2fb817c9ea4e4a25"
  },
  {
   "metadata": {
    "ExecuteTime": {
     "end_time": "2025-04-08T09:54:48.458739Z",
     "start_time": "2025-04-08T09:54:47.754966Z"
    }
   },
   "cell_type": "code",
   "source": [
    "ds = Diving48Dataset(\n",
    "    cfg.DATA.DATASET_PATH,\n",
    "    cfg.DATA.NUM_FRAMES,\n",
    "    dataset_type='train',\n",
    "    transform_fn=get_test_transform(cfg), # use test_transform instead\n",
    "    use_decord=cfg.DATA_LOADER.USE_DECORD,\n",
    "    temporal_random_jitter=cfg.DATA.TEMPORAL_RANDOM_JITTER,\n",
    "    temporal_random_offset=cfg.DATA.TEMPORAL_RANDOM_OFFSET,\n",
    "    multi_thread_decode=cfg.DATA.MULTI_THREAD_DECODE,\n",
    "    threshold=cfg.DATA.THRESHOLD,\n",
    "    use_dynamic_temporal_stride=cfg.DATA.USE_DYNAMIC_TEMPORAL_STRIDE,\n",
    "    mask_type='confounder',\n",
    "    alpha=8\n",
    ")"
   ],
   "id": "47c9032f0b104ed1",
   "outputs": [],
   "execution_count": 48
  },
  {
   "metadata": {
    "ExecuteTime": {
     "end_time": "2025-04-08T09:54:49.676603Z",
     "start_time": "2025-04-08T09:54:49.410247Z"
    }
   },
   "cell_type": "code",
   "source": "x, y, _, _, l, ms, mf = ds[250]",
   "id": "96deddd4bbdc6ff7",
   "outputs": [],
   "execution_count": 49
  },
  {
   "metadata": {
    "ExecuteTime": {
     "end_time": "2025-04-08T09:54:50.271980Z",
     "start_time": "2025-04-08T09:54:50.247883Z"
    }
   },
   "cell_type": "code",
   "source": "ms.shape, mf.shape, y",
   "id": "ca166ea84e5104bd",
   "outputs": [
    {
     "data": {
      "text/plain": [
       "(torch.Size([1, 4, 256, 256]), torch.Size([1, 32, 256, 256]), 1)"
      ]
     },
     "execution_count": 50,
     "metadata": {},
     "output_type": "execute_result"
    }
   ],
   "execution_count": 50
  },
  {
   "metadata": {
    "ExecuteTime": {
     "end_time": "2025-04-08T09:27:09.974150Z",
     "start_time": "2025-04-08T09:27:09.891588Z"
    }
   },
   "cell_type": "code",
   "source": "plt.imshow(ms.permute(1, 2, 3, 0)[0].numpy(), cmap='gray')",
   "id": "83bd87829b1fd12f",
   "outputs": [
    {
     "data": {
      "text/plain": [
       "<matplotlib.image.AxesImage at 0x3071b78c0>"
      ]
     },
     "execution_count": 33,
     "metadata": {},
     "output_type": "execute_result"
    },
    {
     "data": {
      "text/plain": [
       "<Figure size 640x480 with 1 Axes>"
      ],
      "image/png": "[encoded data removed]"
     },
     "metadata": {},
     "output_type": "display_data"
    }
   ],
   "execution_count": 33
  },
  {
   "metadata": {
    "ExecuteTime": {
     "end_time": "2025-04-08T09:28:19.737582Z",
     "start_time": "2025-04-08T09:28:19.700590Z"
    }
   },
   "cell_type": "code",
   "source": [
    "ds = Diving48Dataset(\n",
    "    cfg.DATA.DATASET_PATH,\n",
    "    cfg.DATA.NUM_FRAMES,\n",
    "    dataset_type='train',\n",
    "    transform_fn=get_test_transform(cfg), # use test_transform instead\n",
    "    use_decord=cfg.DATA_LOADER.USE_DECORD,\n",
    "    temporal_random_jitter=cfg.DATA.TEMPORAL_RANDOM_JITTER,\n",
    "    temporal_random_offset=cfg.DATA.TEMPORAL_RANDOM_OFFSET,\n",
    "    multi_thread_decode=cfg.DATA.MULTI_THREAD_DECODE,\n",
    "    threshold=cfg.DATA.THRESHOLD,\n",
    "    use_dynamic_temporal_stride=cfg.DATA.USE_DYNAMIC_TEMPORAL_STRIDE,\n",
    "    alpha=8,\n",
    "    masks_cache_dir='.masks',\n",
    "    mask_type='cache'\n",
    ")"
   ],
   "id": "95600775c16ca108",
   "outputs": [],
   "execution_count": 36
  },
  {
   "metadata": {
    "ExecuteTime": {
     "end_time": "2025-04-08T09:28:21.288971Z",
     "start_time": "2025-04-08T09:28:21.003971Z"
    }
   },
   "cell_type": "code",
   "source": "x, y, _, _, l, ms, mf = ds[250]",
   "id": "8d65a65c849ce36b",
   "outputs": [],
   "execution_count": 37
  },
  {
   "metadata": {
    "ExecuteTime": {
     "end_time": "2025-04-08T09:28:36.577681Z",
     "start_time": "2025-04-08T09:28:36.552784Z"
    }
   },
   "cell_type": "code",
   "source": "x.shape, ms.shape, mf.shape, y",
   "id": "e1f2a8c816825c19",
   "outputs": [
    {
     "data": {
      "text/plain": [
       "(torch.Size([3, 32, 256, 256]), (1, 4, 256, 256), (1, 32, 256, 256), 1)"
      ]
     },
     "execution_count": 39,
     "metadata": {},
     "output_type": "execute_result"
    }
   ],
   "execution_count": 39
  },
  {
   "metadata": {
    "ExecuteTime": {
     "end_time": "2025-04-08T09:33:51.866671Z",
     "start_time": "2025-04-08T09:33:51.615363Z"
    }
   },
   "cell_type": "code",
   "source": [
    "ds = Diving48Dataset(\n",
    "    cfg.DATA.DATASET_PATH,\n",
    "    cfg.DATA.NUM_FRAMES,\n",
    "    dataset_type='train',\n",
    "    transform_fn=get_test_transform(cfg), # use test_transform instead\n",
    "    use_decord=cfg.DATA_LOADER.USE_DECORD,\n",
    "    temporal_random_jitter=cfg.DATA.TEMPORAL_RANDOM_JITTER,\n",
    "    temporal_random_offset=cfg.DATA.TEMPORAL_RANDOM_OFFSET,\n",
    "    multi_thread_decode=cfg.DATA.MULTI_THREAD_DECODE,\n",
    "    threshold=cfg.DATA.THRESHOLD,\n",
    "    use_dynamic_temporal_stride=cfg.DATA.USE_DYNAMIC_TEMPORAL_STRIDE,\n",
    "    mask_type=None,\n",
    "    alpha=8\n",
    ")"
   ],
   "id": "633bc05cf0c2314",
   "outputs": [],
   "execution_count": 44
  },
  {
   "metadata": {
    "ExecuteTime": {
     "end_time": "2025-04-08T09:33:53.215273Z",
     "start_time": "2025-04-08T09:33:52.965475Z"
    }
   },
   "cell_type": "code",
   "source": "x, y, _, _, l, ms, mf = ds[250]",
   "id": "22ba40481487ca03",
   "outputs": [],
   "execution_count": 45
  },
  {
   "metadata": {
    "ExecuteTime": {
     "end_time": "2025-04-08T09:33:59.587537Z",
     "start_time": "2025-04-08T09:33:59.563782Z"
    }
   },
   "cell_type": "code",
   "source": "x.shape, y, ms, mf, y",
   "id": "e612e4a51c1ad98b",
   "outputs": [
    {
     "data": {
      "text/plain": [
       "(torch.Size([3, 32, 256, 256]), 1, False, False, 1)"
      ]
     },
     "execution_count": 47,
     "metadata": {},
     "output_type": "execute_result"
    }
   ],
   "execution_count": 47
  },
  {
   "metadata": {},
   "cell_type": "code",
   "outputs": [],
   "execution_count": null,
   "source": "",
   "id": "203878e2a18526d"
  }
 ],
 "metadata": {
  "kernelspec": {
   "display_name": "Python 3",
   "language": "python",
   "name": "python3"
  },
  "language_info": {
   "codemirror_mode": {
    "name": "ipython",
    "version": 2
   },
   "file_extension": ".py",
   "mimetype": "text/x-python",
   "name": "python",
   "nbconvert_exporter": "python",
   "pygments_lexer": "ipython2",
   "version": "2.7.6"
  }
 },
 "nbformat": 4,
 "nbformat_minor": 5
}
