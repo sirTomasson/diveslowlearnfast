{
 "cells": [
  {
   "cell_type": "code",
   "id": "initial_id",
   "metadata": {
    "collapsed": true,
    "ExecuteTime": {
     "end_time": "2025-03-19T08:56:18.863441Z",
     "start_time": "2025-03-19T08:56:15.193555Z"
    }
   },
   "source": [
    "%load_ext autoreload\n",
    "%autoreload 2\n",
    "\n",
    "import torch\n",
    "\n",
    "import matplotlib.pyplot as plt\n",
    "import numpy as np\n",
    "from torch.utils.data import DataLoader\n",
    "from diveslowlearnfast.datasets import Diving48Dataset\n",
    "from diveslowlearnfast.egl.explainer import ExplainerStrategy\n",
    "from diveslowlearnfast.train.helper import get_test_transform\n",
    "from diveslowlearnfast.models import SlowFast, load_checkpoint\n",
    "from diveslowlearnfast.config import Config\n",
    "from diveslowlearnfast.visualise.gradcam import GradCAM\n",
    "from diveslowlearnfast.train import helper as train_helper, StatsDB\n",
    "from diveslowlearnfast.egl import helper as egl_helper\n",
    "\n",
    "cfg = Config()\n",
    "cfg.DATA.DATASET_PATH = '/Users/youritomassen/Projects/xai/data/Diving48/'\n",
    "cfg.TRAIN.BATCH_SIZE = 2\n",
    "# cfg.GRADCAM.TARGET_LAYERS = ['head/pathway0_avgpool', 'head/pathway1_avgpool']\n",
    "cfg.GRADCAM.TARGET_LAYERS = ['s5/pathway0_res2', 's5/pathway0_res2']\n",
    "device = torch.device('cpu')\n",
    "model = SlowFast(cfg)\n",
    "_, optimiser, *_ = train_helper.get_train_objects(cfg, model)\n",
    "model, *_ = load_checkpoint(model, optimiser, '../misc/checkpoint.pth', device)\n",
    "explainer = ExplainerStrategy.get_explainer(model, cfg=cfg, device=device)\n",
    "\n",
    "stats_db = StatsDB('./data/stats.db')\n",
    "difficult_samples = stats_db.get_below_median_samples(\n",
    "    epoch_start=90,\n",
    "    run_id='/home/s2871513/Projects/diveslowlearnfast/results/run18',\n",
    "    split='train'\n",
    ")\n",
    "\n",
    "video_ids = list(map(lambda x: x[0], difficult_samples))\n",
    "\n",
    "train_dataset = Diving48Dataset(\n",
    "    cfg.DATA.DATASET_PATH,\n",
    "    cfg.DATA.NUM_FRAMES,\n",
    "    dataset_type='train',\n",
    "    transform_fn=get_test_transform(cfg), # use test_transform instead\n",
    "    use_decord=cfg.DATA_LOADER.USE_DECORD,\n",
    "    temporal_random_jitter=cfg.DATA.TEMPORAL_RANDOM_JITTER,\n",
    "    temporal_random_offset=cfg.DATA.TEMPORAL_RANDOM_OFFSET,\n",
    "    multi_thread_decode=cfg.DATA.MULTI_THREAD_DECODE,\n",
    "    threshold=cfg.DATA.THRESHOLD,\n",
    "    use_sampling_ratio=cfg.DATA.USE_SAMPLING_RATIO,\n",
    "    video_ids=video_ids\n",
    ")\n",
    "\n",
    "train_loader = DataLoader(\n",
    "    train_dataset,\n",
    "    batch_size=cfg.TRAIN.BATCH_SIZE,\n",
    "    pin_memory=cfg.DATA_LOADER.PIN_MEMORY,\n",
    "    num_workers=cfg.DATA_LOADER.NUM_WORKERS,\n",
    "    shuffle=True,\n",
    ")"
   ],
   "outputs": [
    {
     "name": "stdout",
     "output_type": "stream",
     "text": [
      "\n"
     ]
    },
    {
     "ename": "AttributeError",
     "evalue": "'SGD' object has no attribute 'seek'. You can only torch.load from a file that is seekable. Please pre-load the data into a buffer like io.BytesIO and try to load from it instead.",
     "output_type": "error",
     "traceback": [
      "\u001B[0;31m---------------------------------------------------------------------------\u001B[0m",
      "\u001B[0;31mAttributeError\u001B[0m                            Traceback (most recent call last)",
      "File \u001B[0;32m~/Projects/Uni/Master Thesis/diveslowlearnfast/.venv/lib/python3.12/site-packages/torch/serialization.py:757\u001B[0m, in \u001B[0;36m_check_seekable\u001B[0;34m(f)\u001B[0m\n\u001B[1;32m    756\u001B[0m \u001B[38;5;28;01mtry\u001B[39;00m:\n\u001B[0;32m--> 757\u001B[0m     \u001B[43mf\u001B[49m\u001B[38;5;241;43m.\u001B[39;49m\u001B[43mseek\u001B[49m(f\u001B[38;5;241m.\u001B[39mtell())\n\u001B[1;32m    758\u001B[0m     \u001B[38;5;28;01mreturn\u001B[39;00m \u001B[38;5;28;01mTrue\u001B[39;00m\n",
      "\u001B[0;31mAttributeError\u001B[0m: 'SGD' object has no attribute 'seek'",
      "\nDuring handling of the above exception, another exception occurred:\n",
      "\u001B[0;31mAttributeError\u001B[0m                            Traceback (most recent call last)",
      "Cell \u001B[0;32mIn[2], line 26\u001B[0m\n\u001B[1;32m     24\u001B[0m model \u001B[38;5;241m=\u001B[39m SlowFast(cfg)\n\u001B[1;32m     25\u001B[0m _, optimiser, \u001B[38;5;241m*\u001B[39m_ \u001B[38;5;241m=\u001B[39m train_helper\u001B[38;5;241m.\u001B[39mget_train_objects(cfg, model)\n\u001B[0;32m---> 26\u001B[0m model, \u001B[38;5;241m*\u001B[39m_ \u001B[38;5;241m=\u001B[39m \u001B[43mload_checkpoint\u001B[49m\u001B[43m(\u001B[49m\u001B[43mmodel\u001B[49m\u001B[43m,\u001B[49m\u001B[43m \u001B[49m\u001B[43moptimiser\u001B[49m\u001B[43m,\u001B[49m\u001B[43m \u001B[49m\u001B[38;5;124;43m'\u001B[39;49m\u001B[38;5;124;43m../misc/checkpoint.pth\u001B[39;49m\u001B[38;5;124;43m'\u001B[39;49m\u001B[43m,\u001B[49m\u001B[43m \u001B[49m\u001B[43mdevice\u001B[49m\u001B[43m)\u001B[49m\n\u001B[1;32m     27\u001B[0m explainer \u001B[38;5;241m=\u001B[39m ExplainerStrategy\u001B[38;5;241m.\u001B[39mget_explainer(model, cfg\u001B[38;5;241m=\u001B[39mcfg, device\u001B[38;5;241m=\u001B[39mdevice)\n\u001B[1;32m     29\u001B[0m stats_db \u001B[38;5;241m=\u001B[39m StatsDB(\u001B[38;5;124m'\u001B[39m\u001B[38;5;124m./data/stats.db\u001B[39m\u001B[38;5;124m'\u001B[39m)\n",
      "File \u001B[0;32m~/Projects/Uni/Master Thesis/diveslowlearnfast/diveslowlearnfast/models/utils.py:34\u001B[0m, in \u001B[0;36mload_checkpoint\u001B[0;34m(model, checkpoint_path, optimiser, device)\u001B[0m\n\u001B[1;32m     33\u001B[0m \u001B[38;5;28;01mdef\u001B[39;00m\u001B[38;5;250m \u001B[39m\u001B[38;5;21mload_checkpoint\u001B[39m(model, checkpoint_path: \u001B[38;5;28mstr\u001B[39m \u001B[38;5;241m|\u001B[39m Path, optimiser\u001B[38;5;241m=\u001B[39m\u001B[38;5;28;01mNone\u001B[39;00m, device: torch\u001B[38;5;241m.\u001B[39mdevice \u001B[38;5;241m=\u001B[39m torch\u001B[38;5;241m.\u001B[39mdevice(\u001B[38;5;124m'\u001B[39m\u001B[38;5;124mcpu\u001B[39m\u001B[38;5;124m'\u001B[39m)):\n\u001B[0;32m---> 34\u001B[0m     checkpoint \u001B[38;5;241m=\u001B[39m \u001B[43mtorch\u001B[49m\u001B[38;5;241;43m.\u001B[39;49m\u001B[43mload\u001B[49m\u001B[43m(\u001B[49m\u001B[43mcheckpoint_path\u001B[49m\u001B[43m,\u001B[49m\u001B[43m \u001B[49m\u001B[43mmap_location\u001B[49m\u001B[38;5;241;43m=\u001B[39;49m\u001B[43mdevice\u001B[49m\u001B[43m,\u001B[49m\u001B[43m \u001B[49m\u001B[43mweights_only\u001B[49m\u001B[38;5;241;43m=\u001B[39;49m\u001B[38;5;28;43;01mFalse\u001B[39;49;00m\u001B[43m)\u001B[49m\n\u001B[1;32m     35\u001B[0m     model\u001B[38;5;241m.\u001B[39mload_state_dict(checkpoint[\u001B[38;5;124m'\u001B[39m\u001B[38;5;124mmodel_state\u001B[39m\u001B[38;5;124m'\u001B[39m])\n\u001B[1;32m     36\u001B[0m     \u001B[38;5;28;01mif\u001B[39;00m optimiser \u001B[38;5;129;01mis\u001B[39;00m \u001B[38;5;129;01mnot\u001B[39;00m \u001B[38;5;28;01mNone\u001B[39;00m:\n",
      "File \u001B[0;32m~/Projects/Uni/Master Thesis/diveslowlearnfast/.venv/lib/python3.12/site-packages/torch/serialization.py:1319\u001B[0m, in \u001B[0;36mload\u001B[0;34m(f, map_location, pickle_module, weights_only, mmap, **pickle_load_args)\u001B[0m\n\u001B[1;32m   1316\u001B[0m \u001B[38;5;28;01mif\u001B[39;00m \u001B[38;5;124m\"\u001B[39m\u001B[38;5;124mencoding\u001B[39m\u001B[38;5;124m\"\u001B[39m \u001B[38;5;129;01mnot\u001B[39;00m \u001B[38;5;129;01min\u001B[39;00m pickle_load_args\u001B[38;5;241m.\u001B[39mkeys():\n\u001B[1;32m   1317\u001B[0m     pickle_load_args[\u001B[38;5;124m\"\u001B[39m\u001B[38;5;124mencoding\u001B[39m\u001B[38;5;124m\"\u001B[39m] \u001B[38;5;241m=\u001B[39m \u001B[38;5;124m\"\u001B[39m\u001B[38;5;124mutf-8\u001B[39m\u001B[38;5;124m\"\u001B[39m\n\u001B[0;32m-> 1319\u001B[0m \u001B[38;5;28;01mwith\u001B[39;00m \u001B[43m_open_file_like\u001B[49m\u001B[43m(\u001B[49m\u001B[43mf\u001B[49m\u001B[43m,\u001B[49m\u001B[43m \u001B[49m\u001B[38;5;124;43m\"\u001B[39;49m\u001B[38;5;124;43mrb\u001B[39;49m\u001B[38;5;124;43m\"\u001B[39;49m\u001B[43m)\u001B[49m \u001B[38;5;28;01mas\u001B[39;00m opened_file:\n\u001B[1;32m   1320\u001B[0m     \u001B[38;5;28;01mif\u001B[39;00m _is_zipfile(opened_file):\n\u001B[1;32m   1321\u001B[0m         \u001B[38;5;66;03m# The zipfile reader is going to advance the current file position.\u001B[39;00m\n\u001B[1;32m   1322\u001B[0m         \u001B[38;5;66;03m# If we want to actually tail call to torch.jit.load, we need to\u001B[39;00m\n\u001B[1;32m   1323\u001B[0m         \u001B[38;5;66;03m# reset back to the original position.\u001B[39;00m\n\u001B[1;32m   1324\u001B[0m         orig_position \u001B[38;5;241m=\u001B[39m opened_file\u001B[38;5;241m.\u001B[39mtell()\n",
      "File \u001B[0;32m~/Projects/Uni/Master Thesis/diveslowlearnfast/.venv/lib/python3.12/site-packages/torch/serialization.py:664\u001B[0m, in \u001B[0;36m_open_file_like\u001B[0;34m(name_or_buffer, mode)\u001B[0m\n\u001B[1;32m    662\u001B[0m     \u001B[38;5;28;01mreturn\u001B[39;00m _open_buffer_writer(name_or_buffer)\n\u001B[1;32m    663\u001B[0m \u001B[38;5;28;01melif\u001B[39;00m \u001B[38;5;124m\"\u001B[39m\u001B[38;5;124mr\u001B[39m\u001B[38;5;124m\"\u001B[39m \u001B[38;5;129;01min\u001B[39;00m mode:\n\u001B[0;32m--> 664\u001B[0m     \u001B[38;5;28;01mreturn\u001B[39;00m \u001B[43m_open_buffer_reader\u001B[49m\u001B[43m(\u001B[49m\u001B[43mname_or_buffer\u001B[49m\u001B[43m)\u001B[49m\n\u001B[1;32m    665\u001B[0m \u001B[38;5;28;01melse\u001B[39;00m:\n\u001B[1;32m    666\u001B[0m     \u001B[38;5;28;01mraise\u001B[39;00m \u001B[38;5;167;01mRuntimeError\u001B[39;00m(\u001B[38;5;124mf\u001B[39m\u001B[38;5;124m\"\u001B[39m\u001B[38;5;124mExpected \u001B[39m\u001B[38;5;124m'\u001B[39m\u001B[38;5;124mr\u001B[39m\u001B[38;5;124m'\u001B[39m\u001B[38;5;124m or \u001B[39m\u001B[38;5;124m'\u001B[39m\u001B[38;5;124mw\u001B[39m\u001B[38;5;124m'\u001B[39m\u001B[38;5;124m in mode but got \u001B[39m\u001B[38;5;132;01m{\u001B[39;00mmode\u001B[38;5;132;01m}\u001B[39;00m\u001B[38;5;124m\"\u001B[39m)\n",
      "File \u001B[0;32m~/Projects/Uni/Master Thesis/diveslowlearnfast/.venv/lib/python3.12/site-packages/torch/serialization.py:649\u001B[0m, in \u001B[0;36m_open_buffer_reader.__init__\u001B[0;34m(self, buffer)\u001B[0m\n\u001B[1;32m    647\u001B[0m \u001B[38;5;28;01mdef\u001B[39;00m\u001B[38;5;250m \u001B[39m\u001B[38;5;21m__init__\u001B[39m(\u001B[38;5;28mself\u001B[39m, buffer):\n\u001B[1;32m    648\u001B[0m     \u001B[38;5;28msuper\u001B[39m()\u001B[38;5;241m.\u001B[39m\u001B[38;5;21m__init__\u001B[39m(buffer)\n\u001B[0;32m--> 649\u001B[0m     \u001B[43m_check_seekable\u001B[49m\u001B[43m(\u001B[49m\u001B[43mbuffer\u001B[49m\u001B[43m)\u001B[49m\n",
      "File \u001B[0;32m~/Projects/Uni/Master Thesis/diveslowlearnfast/.venv/lib/python3.12/site-packages/torch/serialization.py:760\u001B[0m, in \u001B[0;36m_check_seekable\u001B[0;34m(f)\u001B[0m\n\u001B[1;32m    758\u001B[0m     \u001B[38;5;28;01mreturn\u001B[39;00m \u001B[38;5;28;01mTrue\u001B[39;00m\n\u001B[1;32m    759\u001B[0m \u001B[38;5;28;01mexcept\u001B[39;00m (io\u001B[38;5;241m.\u001B[39mUnsupportedOperation, \u001B[38;5;167;01mAttributeError\u001B[39;00m) \u001B[38;5;28;01mas\u001B[39;00m e:\n\u001B[0;32m--> 760\u001B[0m     \u001B[43mraise_err_msg\u001B[49m\u001B[43m(\u001B[49m\u001B[43m[\u001B[49m\u001B[38;5;124;43m\"\u001B[39;49m\u001B[38;5;124;43mseek\u001B[39;49m\u001B[38;5;124;43m\"\u001B[39;49m\u001B[43m,\u001B[49m\u001B[43m \u001B[49m\u001B[38;5;124;43m\"\u001B[39;49m\u001B[38;5;124;43mtell\u001B[39;49m\u001B[38;5;124;43m\"\u001B[39;49m\u001B[43m]\u001B[49m\u001B[43m,\u001B[49m\u001B[43m \u001B[49m\u001B[43me\u001B[49m\u001B[43m)\u001B[49m\n\u001B[1;32m    761\u001B[0m \u001B[38;5;28;01mreturn\u001B[39;00m \u001B[38;5;28;01mFalse\u001B[39;00m\n",
      "File \u001B[0;32m~/Projects/Uni/Master Thesis/diveslowlearnfast/.venv/lib/python3.12/site-packages/torch/serialization.py:753\u001B[0m, in \u001B[0;36m_check_seekable.<locals>.raise_err_msg\u001B[0;34m(patterns, e)\u001B[0m\n\u001B[1;32m    746\u001B[0m     \u001B[38;5;28;01mif\u001B[39;00m p \u001B[38;5;129;01min\u001B[39;00m \u001B[38;5;28mstr\u001B[39m(e):\n\u001B[1;32m    747\u001B[0m         msg \u001B[38;5;241m=\u001B[39m (\n\u001B[1;32m    748\u001B[0m             \u001B[38;5;28mstr\u001B[39m(e)\n\u001B[1;32m    749\u001B[0m             \u001B[38;5;241m+\u001B[39m \u001B[38;5;124m\"\u001B[39m\u001B[38;5;124m. You can only torch.load from a file that is seekable.\u001B[39m\u001B[38;5;124m\"\u001B[39m\n\u001B[1;32m    750\u001B[0m             \u001B[38;5;241m+\u001B[39m \u001B[38;5;124m\"\u001B[39m\u001B[38;5;124m Please pre-load the data into a buffer like io.BytesIO and\u001B[39m\u001B[38;5;124m\"\u001B[39m\n\u001B[1;32m    751\u001B[0m             \u001B[38;5;241m+\u001B[39m \u001B[38;5;124m\"\u001B[39m\u001B[38;5;124m try to load from it instead.\u001B[39m\u001B[38;5;124m\"\u001B[39m\n\u001B[1;32m    752\u001B[0m         )\n\u001B[0;32m--> 753\u001B[0m         \u001B[38;5;28;01mraise\u001B[39;00m \u001B[38;5;28mtype\u001B[39m(e)(msg)\n\u001B[1;32m    754\u001B[0m \u001B[38;5;28;01mraise\u001B[39;00m e\n",
      "\u001B[0;31mAttributeError\u001B[0m: 'SGD' object has no attribute 'seek'. You can only torch.load from a file that is seekable. Please pre-load the data into a buffer like io.BytesIO and try to load from it instead."
     ]
    }
   ],
   "execution_count": 2
  },
  {
   "metadata": {
    "ExecuteTime": {
     "end_time": "2025-02-10T13:03:49.954719Z",
     "start_time": "2025-02-10T13:03:21.653696Z"
    }
   },
   "cell_type": "code",
   "source": [
    "# xb, yb, _, _, loader_video_ids = next(train_loader_iter)\n",
    "xb, yb, *_ = next(iter(train_loader))"
   ],
   "id": "ded0acc6643c1aa7",
   "outputs": [],
   "execution_count": 2
  },
  {
   "metadata": {
    "ExecuteTime": {
     "end_time": "2025-02-10T13:04:36.276940Z",
     "start_time": "2025-02-10T13:04:31.358774Z"
    }
   },
   "cell_type": "code",
   "source": "exp = explainer(xb, yb)",
   "id": "303ae455a283476",
   "outputs": [],
   "execution_count": 4
  },
  {
   "metadata": {
    "ExecuteTime": {
     "end_time": "2025-02-10T13:06:08.054461Z",
     "start_time": "2025-02-10T13:06:08.018902Z"
    }
   },
   "cell_type": "code",
   "source": "np.median(exp, axis=(1, 2, 3, 4)).shape",
   "id": "699404d805e0efdf",
   "outputs": [
    {
     "data": {
      "text/plain": [
       "(2,)"
      ]
     },
     "execution_count": 15,
     "metadata": {},
     "output_type": "execute_result"
    }
   ],
   "execution_count": 15
  },
  {
   "metadata": {
    "ExecuteTime": {
     "end_time": "2025-02-10T13:07:52.218846Z",
     "start_time": "2025-02-10T13:07:52.184743Z"
    }
   },
   "cell_type": "code",
   "source": [
    "xb_fast = exp.squeeze(1) # remove dim 1\n",
    "m = np.median(xb_fast, axis=(1, 2, 3)).reshape((-1, 1, 1, 1)) < xb_fast.numpy()"
   ],
   "id": "d302516e4af6a0cc",
   "outputs": [],
   "execution_count": 21
  },
  {
   "metadata": {
    "ExecuteTime": {
     "end_time": "2025-02-10T13:07:53.119829Z",
     "start_time": "2025-02-10T13:07:53.101245Z"
    }
   },
   "cell_type": "code",
   "source": "m.shape",
   "id": "bd919e1111ea26b6",
   "outputs": [
    {
     "data": {
      "text/plain": [
       "(2, 32, 256, 256)"
      ]
     },
     "execution_count": 22,
     "metadata": {},
     "output_type": "execute_result"
    }
   ],
   "execution_count": 22
  },
  {
   "metadata": {
    "ExecuteTime": {
     "end_time": "2025-02-10T13:08:22.953686Z",
     "start_time": "2025-02-10T13:08:22.888822Z"
    }
   },
   "cell_type": "code",
   "source": [
    "plt.matshow(m[1][1], cmap='gray')\n",
    "plt.axis('off')"
   ],
   "id": "bd6a22637b2cbc8a",
   "outputs": [
    {
     "data": {
      "text/plain": [
       "(-0.5, 255.5, 255.5, -0.5)"
      ]
     },
     "execution_count": 26,
     "metadata": {},
     "output_type": "execute_result"
    },
    {
     "data": {
      "text/plain": [
       "<Figure size 480x480 with 1 Axes>"
      ],
      "image/png": "[encoded data removed]"
     },
     "metadata": {},
     "output_type": "display_data"
    }
   ],
   "execution_count": 26
  },
  {
   "metadata": {
    "ExecuteTime": {
     "end_time": "2025-02-10T12:41:39.007515Z",
     "start_time": "2025-02-10T12:41:38.956322Z"
    }
   },
   "cell_type": "code",
   "source": [
    "# invert the mask\n",
    "plt.matshow(~m, cmap='gray')\n",
    "plt.axis('off')\n",
    "plt.show()"
   ],
   "id": "a06ea93c1dd651e5",
   "outputs": [
    {
     "data": {
      "text/plain": [
       "<Figure size 480x480 with 1 Axes>"
      ],
      "image/png": "[encoded data removed]"
     },
     "metadata": {},
     "output_type": "display_data"
    }
   ],
   "execution_count": 23
  },
  {
   "metadata": {
    "ExecuteTime": {
     "end_time": "2025-02-10T13:12:16.224972Z",
     "start_time": "2025-02-10T13:12:16.163848Z"
    }
   },
   "cell_type": "code",
   "source": [
    "percentile = 50\n",
    "features = xb_fast.numpy()\n",
    "thresh = np.percentile(features, percentile, axis=(1,2,3))\n",
    "thresh = thresh.reshape((-1,1,1,1))\n",
    "\n",
    "m = features > thresh"
   ],
   "id": "cc233cd76a42063",
   "outputs": [],
   "execution_count": 28
  },
  {
   "metadata": {
    "ExecuteTime": {
     "end_time": "2025-02-10T13:12:17.653696Z",
     "start_time": "2025-02-10T13:12:17.634734Z"
    }
   },
   "cell_type": "code",
   "source": "m.shape",
   "id": "1f2714e14f1311db",
   "outputs": [
    {
     "data": {
      "text/plain": [
       "(2, 32, 256, 256)"
      ]
     },
     "execution_count": 29,
     "metadata": {},
     "output_type": "execute_result"
    }
   ],
   "execution_count": 29
  },
  {
   "metadata": {
    "ExecuteTime": {
     "end_time": "2025-02-10T13:13:06.230289Z",
     "start_time": "2025-02-10T13:13:06.171684Z"
    }
   },
   "cell_type": "code",
   "source": [
    "plt.matshow(m[0][0], cmap='gray')\n",
    "plt.axis('off')\n",
    "plt.show()"
   ],
   "id": "d2ebc618c59ef14b",
   "outputs": [
    {
     "data": {
      "text/plain": [
       "<Figure size 480x480 with 1 Axes>"
      ],
      "image/png": "[encoded data removed]"
     },
     "metadata": {},
     "output_type": "display_data"
    }
   ],
   "execution_count": 30
  },
  {
   "metadata": {
    "ExecuteTime": {
     "end_time": "2025-02-10T13:47:41.758737Z",
     "start_time": "2025-02-10T13:47:41.738911Z"
    }
   },
   "cell_type": "code",
   "source": "cfg.GRADCAM",
   "id": "eca623b326aa20ac",
   "outputs": [
    {
     "data": {
      "text/plain": [
       "<diveslowlearnfast.config.defaults.GradCAMConfig at 0x301eacb00>"
      ]
     },
     "execution_count": 32,
     "metadata": {},
     "output_type": "execute_result"
    }
   ],
   "execution_count": 32
  },
  {
   "metadata": {},
   "cell_type": "markdown",
   "source": [
    "## Mask Generation Creation Logic\n",
    "This section includes logic for when masks should be created. Do we create them only once? Or create them on a interval. If they already exist do we recreate them or do we want to reuse an existing cache."
   ],
   "id": "a0a3868981b9639c"
  },
  {
   "metadata": {
    "ExecuteTime": {
     "end_time": "2025-03-19T09:46:46.170973Z",
     "start_time": "2025-03-19T09:46:46.144539Z"
    }
   },
   "cell_type": "code",
   "source": [
    "import os\n",
    "\n",
    "def masks_exist(cfg: Config):\n",
    "    slow_masks_dir = os.path.join(cfg.EGL.MASKS_CACHE_DIR, 'slow')\n",
    "    fast_masks_dir = os.path.join(cfg.EGL.MASKS_CACHE_DIR, 'fast')\n",
    "    slow_masks_exist = os.path.isdir(slow_masks_dir) and len(os.listdir(slow_masks_dir)) > 0\n",
    "    fast_masks_exist = os.path.isdir(fast_masks_dir) and len(os.listdir(fast_masks_dir)) > 0\n",
    "    return slow_masks_exist and fast_masks_exist\n",
    "\n",
    "def should_generate_masks(cfg: Config, epoch):\n",
    "    if not cfg.EGL.ENABLED:\n",
    "        return False\n",
    "\n",
    "    if not masks_exist(cfg):\n",
    "        return True\n",
    "\n",
    "    return cfg.EGL.MASKS_PERIOD != -1 and (epoch % cfg.EGL.MASKS_PERIOD) == 0\n",
    "\n",
    "epoch = 10"
   ],
   "id": "31e1d326d23b16c5",
   "outputs": [],
   "execution_count": 81
  },
  {
   "metadata": {
    "ExecuteTime": {
     "end_time": "2025-03-19T09:48:04.529860Z",
     "start_time": "2025-03-19T09:48:04.505185Z"
    }
   },
   "cell_type": "code",
   "source": [
    "cfg.EGL.MASKS_CACHE_DIR = '.masks'\n",
    "\n",
    "assert masks_exist(cfg)\n",
    "\n",
    "cfg.EGL.MASKS_CACHE_DIR = 'data/.masks'\n",
    "\n",
    "assert masks_exist(cfg) == False\n",
    "\n",
    "\n",
    "cfg.EGL.ENABLED = False\n",
    "assert should_generate_masks(cfg, epoch) == False\n",
    "\n",
    "cfg.EGL.ENABLED = True\n",
    "cfg.EGL.MASKS_PERIOD = -1\n",
    "epoch = 0\n",
    "cfg.EGL.MASKS_CACHE_DIR = '.masks'\n",
    "assert should_generate_masks(cfg, epoch) == False\n",
    "\n",
    "\n",
    "cfg.EGL.MASKS_CACHE_DIR = 'data/.masks'\n",
    "assert should_generate_masks(cfg, epoch)\n",
    "\n",
    "cfg.EGL.MASKS_PERIOD = 10\n",
    "epoch = 1\n",
    "assert should_generate_masks(cfg, epoch) == True\n",
    "\n",
    "epoch = 0\n",
    "cfg.EGL.MASKS_CACHE_DIR = '.masks'\n",
    "assert should_generate_masks(cfg, epoch)\n",
    "\n",
    "cfg.EGL.MASKS_CACHE_DIR = 'data/.masks'\n",
    "assert should_generate_masks(cfg, epoch)\n",
    "\n",
    "\n",
    "epoch = 1\n",
    "assert should_generate_masks(cfg, epoch)\n",
    "\n",
    "epoch = 10\n",
    "assert should_generate_masks(cfg, epoch) == True"
   ],
   "id": "bc9d2038c4e519dc",
   "outputs": [],
   "execution_count": 86
  },
  {
   "metadata": {},
   "cell_type": "code",
   "outputs": [],
   "execution_count": null,
   "source": "",
   "id": "47c9032f0b104ed1"
  }
 ],
 "metadata": {
  "kernelspec": {
   "display_name": "Python 3",
   "language": "python",
   "name": "python3"
  },
  "language_info": {
   "codemirror_mode": {
    "name": "ipython",
    "version": 2
   },
   "file_extension": ".py",
   "mimetype": "text/x-python",
   "name": "python",
   "nbconvert_exporter": "python",
   "pygments_lexer": "ipython2",
   "version": "2.7.6"
  }
 },
 "nbformat": 4,
 "nbformat_minor": 5
}
