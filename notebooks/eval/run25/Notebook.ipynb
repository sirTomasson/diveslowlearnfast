{
 "cells": [
  {
   "metadata": {},
   "cell_type": "code",
   "outputs": [],
   "execution_count": null,
   "source": [
    "%load_ext autoreload\n",
    "%autoreload 2\n",
    "\n",
    "from diveslowlearnfast.train import StatsDB\n",
    "from diveslowlearnfast.train.stats import get_value, get_tuple, get_column, get_dict, get_df"
   ],
   "id": "dfb20a0832537a0c"
  },
  {
   "metadata": {},
   "cell_type": "code",
   "outputs": [],
   "execution_count": null,
   "source": [
    "stats = StatsDB('../run26/stats.db')\n",
    "\n",
    "run22_id, run25_id = stats.execute_query('SELECT DISTINCT(run_id) FROM stats', extractor=get_tuple)\n",
    "\n",
    "run22_id, run25_id"
   ],
   "id": "993d383a4078c80f"
  },
  {
   "metadata": {},
   "cell_type": "code",
   "outputs": [],
   "execution_count": null,
   "source": [
    "start_epoch = stats.execute_query('SELECT MIN(epoch) FROM stats WHERE run_id = ?', run25_id, extractor=get_value)\n",
    "\n",
    "start_epoch"
   ],
   "id": "e17b6af9686ea78c"
  },
  {
   "metadata": {},
   "cell_type": "code",
   "outputs": [],
   "execution_count": null,
   "source": [
    "result = stats.get_lowest_percentile(\n",
    "    start_epoch - 10,\n",
    "    run22_id,\n",
    "    'train',\n",
    ")\n",
    "columns = ['video_id', 'gt', 'percentage']\n",
    "result_dict = get_dict(result, columns)\n",
    "result_df = get_df(result, columns)\n",
    "video_ids = result_dict['video_id']\n",
    "\n",
    "len(video_ids)"
   ],
   "id": "f9e9822722a4631c"
  },
  {
   "metadata": {},
   "cell_type": "code",
   "outputs": [],
   "execution_count": null,
   "source": [
    "print('Pre EAL finetuning accuracy:')\n",
    "result_df['percentage'].mean()"
   ],
   "id": "ba12b38f21ed54c3"
  },
  {
   "metadata": {},
   "cell_type": "code",
   "outputs": [],
   "execution_count": null,
   "source": [
    "result = stats.execute_query(\n",
    "f\"\"\"SELECT video_id, gt, (correct_n / n) as acc FROM(\n",
    "            SELECT\n",
    "                video_id,\n",
    "                gt,\n",
    "                epoch,\n",
    "                CAST(SUM(CASE WHEN pred = gt THEN 1 ELSE 0 END) as REAL) as correct_n,\n",
    "                CAST(COUNT(*) as REAL) as n\n",
    "            FROM stats\n",
    "            WHERE epoch > ?\n",
    "            AND video_id IN ({','.join(['?'] * len(video_ids))})\n",
    "            AND run_id = ?\n",
    "            AND split = ?\n",
    "            GROUP BY video_id, gt\n",
    "        ) ORDER BY acc\n",
    "        \"\"\",\n",
    "    start_epoch,\n",
    "    *video_ids,\n",
    "    run25_id,\n",
    "    'train'\n",
    ")"
   ],
   "id": "44c785a2ba1b00d3"
  },
  {
   "metadata": {},
   "cell_type": "code",
   "outputs": [],
   "execution_count": null,
   "source": "run25_id",
   "id": "a9adcb35acac8661"
  },
  {
   "metadata": {},
   "cell_type": "code",
   "outputs": [],
   "execution_count": null,
   "source": "len(stats.execute_query('SELECT DISTINCT(video_id) FROM stats WHERE epoch < 40 AND split = \"train\"')), len(stats.execute_query('SELECT DISTINCT(video_id) FROM stats WHERE epoch = 145 AND split = \"train\"'))",
   "id": "9f8a1e900df1208a"
  },
  {
   "metadata": {},
   "cell_type": "code",
   "outputs": [],
   "execution_count": null,
   "source": "stats.execute_query('SELECT DISTINCT(video_id) FROM stats WHERE epoch = 147 AND split = \"train\" LIMIT 1')",
   "id": "9ce649b9f382ccaa"
  },
  {
   "metadata": {},
   "cell_type": "code",
   "outputs": [],
   "execution_count": null,
   "source": "stats.execute_query('SELECT DISTINCT(video_id) FROM stats WHERE epoch = 148 AND split = \"train\" LIMIT 1')",
   "id": "370a10e83eebafef"
  },
  {
   "metadata": {},
   "cell_type": "code",
   "outputs": [],
   "execution_count": null,
   "source": "stats.execute_query('SELECT DISTINCT(video_id) FROM stats WHERE epoch = 149 AND split = \"train\" LIMIT 1')",
   "id": "7c0cbf876c47e378"
  },
  {
   "metadata": {},
   "cell_type": "code",
   "outputs": [],
   "execution_count": null,
   "source": "stats.execute_query('SELECT MAX(id) FROM stats WHERE split = \"train\"')",
   "id": "8852630c73202a66"
  }
 ],
 "metadata": {},
 "nbformat": 5,
 "nbformat_minor": 9
}
