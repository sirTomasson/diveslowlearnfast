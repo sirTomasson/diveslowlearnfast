{
 "cells": [
  {
   "cell_type": "code",
   "id": "initial_id",
   "metadata": {
    "collapsed": true,
    "ExecuteTime": {
     "end_time": "2025-03-10T10:52:41.773491Z",
     "start_time": "2025-03-10T10:52:41.325013Z"
    }
   },
   "source": [
    "from numpy.ma.core import masked_less\n",
    "%load_ext autoreload\n",
    "%autoreload 2\n",
    "\n",
    "import matplotlib.pyplot as plt\n",
    "\n",
    "from diveslowlearnfast.train import StatsDB\n",
    "from diveslowlearnfast.train.stats import get_value, get_tuple, get_column, get_dict, get_df"
   ],
   "outputs": [
    {
     "name": "stdout",
     "output_type": "stream",
     "text": [
      "The autoreload extension is already loaded. To reload it, use:\n",
      "  %reload_ext autoreload\n"
     ]
    }
   ],
   "execution_count": 73
  },
  {
   "metadata": {
    "ExecuteTime": {
     "end_time": "2025-03-10T10:07:35.002598Z",
     "start_time": "2025-03-10T10:07:34.820254Z"
    }
   },
   "cell_type": "code",
   "source": [
    "stats = StatsDB('stats.db')\n",
    "run22_id, run30_id = stats.execute_query('SELECT DISTINCT(run_id) FROM stats', extractor=get_tuple)\n",
    "\n",
    "run22_id, run30_id"
   ],
   "id": "d9f27989edc15ff1",
   "outputs": [
    {
     "data": {
      "text/plain": [
       "('/home/s2871513/Projects/diveslowlearnfast/results/run22',\n",
       " '/home/s2871513/Projects/diveslowlearnfast/results/run30')"
      ]
     },
     "execution_count": 9,
     "metadata": {},
     "output_type": "execute_result"
    }
   ],
   "execution_count": 9
  },
  {
   "metadata": {
    "ExecuteTime": {
     "end_time": "2025-03-10T10:12:53.217721Z",
     "start_time": "2025-03-10T10:12:51.139311Z"
    }
   },
   "cell_type": "code",
   "source": [
    "stats.execute_query(\"\"\"SELECT\n",
    "    COUNT(DISTINCT(video_id)) as video_counts,\n",
    "    run_id\n",
    "FROM stats\n",
    "WHERE split = \"train\"\n",
    "GROUP BY run_id\"\"\", extractor=get_df)"
   ],
   "id": "697dca7b05abbbb",
   "outputs": [
    {
     "data": {
      "text/plain": [
       "   video_counts                                             run_id\n",
       "0         15027  /home/s2871513/Projects/diveslowlearnfast/resu...\n",
       "1         15027  /home/s2871513/Projects/diveslowlearnfast/resu..."
      ],
      "text/html": [
       "<div>\n",
       "<style scoped>\n",
       "    .dataframe tbody tr th:only-of-type {\n",
       "        vertical-align: middle;\n",
       "    }\n",
       "\n",
       "    .dataframe tbody tr th {\n",
       "        vertical-align: top;\n",
       "    }\n",
       "\n",
       "    .dataframe thead th {\n",
       "        text-align: right;\n",
       "    }\n",
       "</style>\n",
       "<table border=\"1\" class=\"dataframe\">\n",
       "  <thead>\n",
       "    <tr style=\"text-align: right;\">\n",
       "      <th></th>\n",
       "      <th>video_counts</th>\n",
       "      <th>run_id</th>\n",
       "    </tr>\n",
       "  </thead>\n",
       "  <tbody>\n",
       "    <tr>\n",
       "      <th>0</th>\n",
       "      <td>15027</td>\n",
       "      <td>/home/s2871513/Projects/diveslowlearnfast/resu...</td>\n",
       "    </tr>\n",
       "    <tr>\n",
       "      <th>1</th>\n",
       "      <td>15027</td>\n",
       "      <td>/home/s2871513/Projects/diveslowlearnfast/resu...</td>\n",
       "    </tr>\n",
       "  </tbody>\n",
       "</table>\n",
       "</div>"
      ]
     },
     "execution_count": 18,
     "metadata": {},
     "output_type": "execute_result"
    }
   ],
   "execution_count": 18
  },
  {
   "metadata": {
    "ExecuteTime": {
     "end_time": "2025-03-10T11:13:29.689718Z",
     "start_time": "2025-03-10T11:13:29.517491Z"
    }
   },
   "cell_type": "code",
   "source": [
    "start_epoch = stats.execute_query('SELECT MIN(epoch) FROM stats WHERE run_id = ?', run30_id, extractor=get_value)\n",
    "start_epoch"
   ],
   "id": "1e03c66f987b8d81",
   "outputs": [
    {
     "data": {
      "text/plain": [
       "133"
      ]
     },
     "execution_count": 99,
     "metadata": {},
     "output_type": "execute_result"
    }
   ],
   "execution_count": 99
  },
  {
   "metadata": {
    "ExecuteTime": {
     "end_time": "2025-03-10T11:13:28.362278Z",
     "start_time": "2025-03-10T11:13:28.106302Z"
    }
   },
   "cell_type": "code",
   "source": [
    "max_epoch = stats.execute_query('SELECT MAX(epoch) FROM stats WHERE run_id = ?', run30_id, extractor=get_value)\n",
    "max_epoch"
   ],
   "id": "3681865fd2af5ecf",
   "outputs": [
    {
     "data": {
      "text/plain": [
       "160"
      ]
     },
     "execution_count": 98,
     "metadata": {},
     "output_type": "execute_result"
    }
   ],
   "execution_count": 98
  },
  {
   "metadata": {
    "ExecuteTime": {
     "end_time": "2025-03-10T10:32:10.332249Z",
     "start_time": "2025-03-10T10:32:09.461534Z"
    }
   },
   "cell_type": "code",
   "source": [
    "result_df = stats.get_below_median_samples(\n",
    "    start_epoch - 10,\n",
    "    run22_id,\n",
    "    'train',\n",
    "    extractor=get_df\n",
    ")\n",
    "\n",
    "result_df.head(3)"
   ],
   "id": "fa6820bf355e6eb9",
   "outputs": [
    {
     "data": {
      "text/plain": [
       "            video_id  gt  acc  median\n",
       "0  _lmT4WlK7G0_00012  36  0.1     1.0\n",
       "1  VNvb5oLOpLg_00296  37  0.2     1.0\n",
       "2  k1F4LHeYhBs_00207   7  0.3     1.0"
      ],
      "text/html": [
       "<div>\n",
       "<style scoped>\n",
       "    .dataframe tbody tr th:only-of-type {\n",
       "        vertical-align: middle;\n",
       "    }\n",
       "\n",
       "    .dataframe tbody tr th {\n",
       "        vertical-align: top;\n",
       "    }\n",
       "\n",
       "    .dataframe thead th {\n",
       "        text-align: right;\n",
       "    }\n",
       "</style>\n",
       "<table border=\"1\" class=\"dataframe\">\n",
       "  <thead>\n",
       "    <tr style=\"text-align: right;\">\n",
       "      <th></th>\n",
       "      <th>video_id</th>\n",
       "      <th>gt</th>\n",
       "      <th>acc</th>\n",
       "      <th>median</th>\n",
       "    </tr>\n",
       "  </thead>\n",
       "  <tbody>\n",
       "    <tr>\n",
       "      <th>0</th>\n",
       "      <td>_lmT4WlK7G0_00012</td>\n",
       "      <td>36</td>\n",
       "      <td>0.1</td>\n",
       "      <td>1.0</td>\n",
       "    </tr>\n",
       "    <tr>\n",
       "      <th>1</th>\n",
       "      <td>VNvb5oLOpLg_00296</td>\n",
       "      <td>37</td>\n",
       "      <td>0.2</td>\n",
       "      <td>1.0</td>\n",
       "    </tr>\n",
       "    <tr>\n",
       "      <th>2</th>\n",
       "      <td>k1F4LHeYhBs_00207</td>\n",
       "      <td>7</td>\n",
       "      <td>0.3</td>\n",
       "      <td>1.0</td>\n",
       "    </tr>\n",
       "  </tbody>\n",
       "</table>\n",
       "</div>"
      ]
     },
     "execution_count": 40,
     "metadata": {},
     "output_type": "execute_result"
    }
   ],
   "execution_count": 40
  },
  {
   "metadata": {
    "ExecuteTime": {
     "end_time": "2025-03-10T11:00:18.961445Z",
     "start_time": "2025-03-10T11:00:18.944039Z"
    }
   },
   "cell_type": "code",
   "source": "masked_video_ids = result_df['video_id']",
   "id": "28787a60d3f8f2f6",
   "outputs": [],
   "execution_count": 81
  },
  {
   "metadata": {
    "ExecuteTime": {
     "end_time": "2025-03-10T11:20:24.196970Z",
     "start_time": "2025-03-10T11:20:23.592191Z"
    }
   },
   "cell_type": "code",
   "source": [
    "def accuracy_per_video(run_id, epoch, video_ids, not_in=False):\n",
    "    if not_in:\n",
    "        not_in = 'NOT'\n",
    "    else:\n",
    "        not_in = ''\n",
    "    return stats.execute_query(f\"\"\"SELECT video_id, (correct_n / n) as acc FROM(\n",
    "            SELECT\n",
    "                video_id,\n",
    "                gt,\n",
    "                epoch,\n",
    "                split,\n",
    "                CAST(SUM(CASE WHEN pred = gt THEN 1 ELSE 0 END) as REAL) as correct_n,\n",
    "                CAST(COUNT(*) as REAL) as n\n",
    "            FROM stats\n",
    "            WHERE epoch > ?\n",
    "            AND video_id {not_in} IN ({','.join(['?'] * len(video_ids))})\n",
    "            AND run_id = ?\n",
    "            GROUP BY video_id, gt\n",
    "        ) ORDER BY acc\n",
    "        \"\"\",\n",
    "    epoch,\n",
    "    *video_ids,\n",
    "    run_id,\n",
    "    extractor=get_df)\n",
    "\n",
    "before_egl_df = accuracy_per_video(run22_id, start_epoch - 10, masked_video_ids)\n",
    "after_egl_df = accuracy_per_video(run30_id, max_epoch - 10, masked_video_ids)"
   ],
   "id": "cc54ee3a3fb38345",
   "outputs": [],
   "execution_count": 129
  },
  {
   "metadata": {
    "ExecuteTime": {
     "end_time": "2025-03-10T11:20:26.900040Z",
     "start_time": "2025-03-10T11:20:26.881958Z"
    }
   },
   "cell_type": "code",
   "source": "before_egl_df.head(3)",
   "id": "f068b8e37dcaa7c9",
   "outputs": [
    {
     "data": {
      "text/plain": [
       "            video_id  acc\n",
       "0  _lmT4WlK7G0_00012  0.1\n",
       "1  VNvb5oLOpLg_00296  0.2\n",
       "2  k1F4LHeYhBs_00207  0.3"
      ],
      "text/html": [
       "<div>\n",
       "<style scoped>\n",
       "    .dataframe tbody tr th:only-of-type {\n",
       "        vertical-align: middle;\n",
       "    }\n",
       "\n",
       "    .dataframe tbody tr th {\n",
       "        vertical-align: top;\n",
       "    }\n",
       "\n",
       "    .dataframe thead th {\n",
       "        text-align: right;\n",
       "    }\n",
       "</style>\n",
       "<table border=\"1\" class=\"dataframe\">\n",
       "  <thead>\n",
       "    <tr style=\"text-align: right;\">\n",
       "      <th></th>\n",
       "      <th>video_id</th>\n",
       "      <th>acc</th>\n",
       "    </tr>\n",
       "  </thead>\n",
       "  <tbody>\n",
       "    <tr>\n",
       "      <th>0</th>\n",
       "      <td>_lmT4WlK7G0_00012</td>\n",
       "      <td>0.1</td>\n",
       "    </tr>\n",
       "    <tr>\n",
       "      <th>1</th>\n",
       "      <td>VNvb5oLOpLg_00296</td>\n",
       "      <td>0.2</td>\n",
       "    </tr>\n",
       "    <tr>\n",
       "      <th>2</th>\n",
       "      <td>k1F4LHeYhBs_00207</td>\n",
       "      <td>0.3</td>\n",
       "    </tr>\n",
       "  </tbody>\n",
       "</table>\n",
       "</div>"
      ]
     },
     "execution_count": 130,
     "metadata": {},
     "output_type": "execute_result"
    }
   ],
   "execution_count": 130
  },
  {
   "metadata": {
    "ExecuteTime": {
     "end_time": "2025-03-10T11:13:51.803219Z",
     "start_time": "2025-03-10T11:13:51.779431Z"
    }
   },
   "cell_type": "code",
   "source": [
    "combined_df = before_egl_df.merge(after_egl_df, on='video_id', how='inner')\n",
    "combined_df.rename(columns={'acc_x': 'acc_before'}, inplace=True)\n",
    "combined_df.rename(columns={'acc_y': 'acc_after'}, inplace=True)\n",
    "combined_df.head(7)"
   ],
   "id": "cd7da2b9a31f606a",
   "outputs": [
    {
     "data": {
      "text/plain": [
       "            video_id  acc_before  acc_after\n",
       "0  _lmT4WlK7G0_00012    0.100000   0.400000\n",
       "1  VNvb5oLOpLg_00296    0.200000   0.400000\n",
       "2  k1F4LHeYhBs_00207    0.300000   0.333333\n",
       "3  vlfy4cny75s_00070    0.300000   0.600000\n",
       "4  zYHstCxnAPA_00328    0.300000   0.300000\n",
       "5  D8YKHC5hmUs_00034    0.333333   1.000000\n",
       "6  LkluZoNfKu8_00103    0.400000   0.300000"
      ],
      "text/html": [
       "<div>\n",
       "<style scoped>\n",
       "    .dataframe tbody tr th:only-of-type {\n",
       "        vertical-align: middle;\n",
       "    }\n",
       "\n",
       "    .dataframe tbody tr th {\n",
       "        vertical-align: top;\n",
       "    }\n",
       "\n",
       "    .dataframe thead th {\n",
       "        text-align: right;\n",
       "    }\n",
       "</style>\n",
       "<table border=\"1\" class=\"dataframe\">\n",
       "  <thead>\n",
       "    <tr style=\"text-align: right;\">\n",
       "      <th></th>\n",
       "      <th>video_id</th>\n",
       "      <th>acc_before</th>\n",
       "      <th>acc_after</th>\n",
       "    </tr>\n",
       "  </thead>\n",
       "  <tbody>\n",
       "    <tr>\n",
       "      <th>0</th>\n",
       "      <td>_lmT4WlK7G0_00012</td>\n",
       "      <td>0.100000</td>\n",
       "      <td>0.400000</td>\n",
       "    </tr>\n",
       "    <tr>\n",
       "      <th>1</th>\n",
       "      <td>VNvb5oLOpLg_00296</td>\n",
       "      <td>0.200000</td>\n",
       "      <td>0.400000</td>\n",
       "    </tr>\n",
       "    <tr>\n",
       "      <th>2</th>\n",
       "      <td>k1F4LHeYhBs_00207</td>\n",
       "      <td>0.300000</td>\n",
       "      <td>0.333333</td>\n",
       "    </tr>\n",
       "    <tr>\n",
       "      <th>3</th>\n",
       "      <td>vlfy4cny75s_00070</td>\n",
       "      <td>0.300000</td>\n",
       "      <td>0.600000</td>\n",
       "    </tr>\n",
       "    <tr>\n",
       "      <th>4</th>\n",
       "      <td>zYHstCxnAPA_00328</td>\n",
       "      <td>0.300000</td>\n",
       "      <td>0.300000</td>\n",
       "    </tr>\n",
       "    <tr>\n",
       "      <th>5</th>\n",
       "      <td>D8YKHC5hmUs_00034</td>\n",
       "      <td>0.333333</td>\n",
       "      <td>1.000000</td>\n",
       "    </tr>\n",
       "    <tr>\n",
       "      <th>6</th>\n",
       "      <td>LkluZoNfKu8_00103</td>\n",
       "      <td>0.400000</td>\n",
       "      <td>0.300000</td>\n",
       "    </tr>\n",
       "  </tbody>\n",
       "</table>\n",
       "</div>"
      ]
     },
     "execution_count": 102,
     "metadata": {},
     "output_type": "execute_result"
    }
   ],
   "execution_count": 102
  },
  {
   "metadata": {
    "ExecuteTime": {
     "end_time": "2025-03-10T11:14:00.100124Z",
     "start_time": "2025-03-10T11:14:00.079826Z"
    }
   },
   "cell_type": "code",
   "source": [
    "combined_df['change'] = combined_df['acc_after'] - combined_df['acc_before']\n",
    "combined_df"
   ],
   "id": "bc40044a919aab0",
   "outputs": [
    {
     "data": {
      "text/plain": [
       "               video_id  acc_before  acc_after    change\n",
       "0     _lmT4WlK7G0_00012         0.1   0.400000  0.300000\n",
       "1     VNvb5oLOpLg_00296         0.2   0.400000  0.200000\n",
       "2     k1F4LHeYhBs_00207         0.3   0.333333  0.033333\n",
       "3     vlfy4cny75s_00070         0.3   0.600000  0.300000\n",
       "4     zYHstCxnAPA_00328         0.3   0.300000  0.000000\n",
       "...                 ...         ...        ...       ...\n",
       "7043  zbAC7t15q3k_00139         0.9   0.900000  0.000000\n",
       "7044  zbAC7t15q3k_00142         0.9   1.000000  0.100000\n",
       "7045  zbAC7t15q3k_00144         0.9   0.888889 -0.011111\n",
       "7046  zbAC7t15q3k_00147         0.9   0.800000 -0.100000\n",
       "7047  zbAC7t15q3k_00149         0.9   0.800000 -0.100000\n",
       "\n",
       "[7048 rows x 4 columns]"
      ],
      "text/html": [
       "<div>\n",
       "<style scoped>\n",
       "    .dataframe tbody tr th:only-of-type {\n",
       "        vertical-align: middle;\n",
       "    }\n",
       "\n",
       "    .dataframe tbody tr th {\n",
       "        vertical-align: top;\n",
       "    }\n",
       "\n",
       "    .dataframe thead th {\n",
       "        text-align: right;\n",
       "    }\n",
       "</style>\n",
       "<table border=\"1\" class=\"dataframe\">\n",
       "  <thead>\n",
       "    <tr style=\"text-align: right;\">\n",
       "      <th></th>\n",
       "      <th>video_id</th>\n",
       "      <th>acc_before</th>\n",
       "      <th>acc_after</th>\n",
       "      <th>change</th>\n",
       "    </tr>\n",
       "  </thead>\n",
       "  <tbody>\n",
       "    <tr>\n",
       "      <th>0</th>\n",
       "      <td>_lmT4WlK7G0_00012</td>\n",
       "      <td>0.1</td>\n",
       "      <td>0.400000</td>\n",
       "      <td>0.300000</td>\n",
       "    </tr>\n",
       "    <tr>\n",
       "      <th>1</th>\n",
       "      <td>VNvb5oLOpLg_00296</td>\n",
       "      <td>0.2</td>\n",
       "      <td>0.400000</td>\n",
       "      <td>0.200000</td>\n",
       "    </tr>\n",
       "    <tr>\n",
       "      <th>2</th>\n",
       "      <td>k1F4LHeYhBs_00207</td>\n",
       "      <td>0.3</td>\n",
       "      <td>0.333333</td>\n",
       "      <td>0.033333</td>\n",
       "    </tr>\n",
       "    <tr>\n",
       "      <th>3</th>\n",
       "      <td>vlfy4cny75s_00070</td>\n",
       "      <td>0.3</td>\n",
       "      <td>0.600000</td>\n",
       "      <td>0.300000</td>\n",
       "    </tr>\n",
       "    <tr>\n",
       "      <th>4</th>\n",
       "      <td>zYHstCxnAPA_00328</td>\n",
       "      <td>0.3</td>\n",
       "      <td>0.300000</td>\n",
       "      <td>0.000000</td>\n",
       "    </tr>\n",
       "    <tr>\n",
       "      <th>...</th>\n",
       "      <td>...</td>\n",
       "      <td>...</td>\n",
       "      <td>...</td>\n",
       "      <td>...</td>\n",
       "    </tr>\n",
       "    <tr>\n",
       "      <th>7043</th>\n",
       "      <td>zbAC7t15q3k_00139</td>\n",
       "      <td>0.9</td>\n",
       "      <td>0.900000</td>\n",
       "      <td>0.000000</td>\n",
       "    </tr>\n",
       "    <tr>\n",
       "      <th>7044</th>\n",
       "      <td>zbAC7t15q3k_00142</td>\n",
       "      <td>0.9</td>\n",
       "      <td>1.000000</td>\n",
       "      <td>0.100000</td>\n",
       "    </tr>\n",
       "    <tr>\n",
       "      <th>7045</th>\n",
       "      <td>zbAC7t15q3k_00144</td>\n",
       "      <td>0.9</td>\n",
       "      <td>0.888889</td>\n",
       "      <td>-0.011111</td>\n",
       "    </tr>\n",
       "    <tr>\n",
       "      <th>7046</th>\n",
       "      <td>zbAC7t15q3k_00147</td>\n",
       "      <td>0.9</td>\n",
       "      <td>0.800000</td>\n",
       "      <td>-0.100000</td>\n",
       "    </tr>\n",
       "    <tr>\n",
       "      <th>7047</th>\n",
       "      <td>zbAC7t15q3k_00149</td>\n",
       "      <td>0.9</td>\n",
       "      <td>0.800000</td>\n",
       "      <td>-0.100000</td>\n",
       "    </tr>\n",
       "  </tbody>\n",
       "</table>\n",
       "<p>7048 rows × 4 columns</p>\n",
       "</div>"
      ]
     },
     "execution_count": 103,
     "metadata": {},
     "output_type": "execute_result"
    }
   ],
   "execution_count": 103
  },
  {
   "metadata": {
    "ExecuteTime": {
     "end_time": "2025-03-10T11:14:04.704858Z",
     "start_time": "2025-03-10T11:14:04.684918Z"
    }
   },
   "cell_type": "code",
   "source": "combined_df['change'].mean() * 100",
   "id": "ea3f25ae4abc182c",
   "outputs": [
    {
     "data": {
      "text/plain": [
       "5.334373817631479"
      ]
     },
     "execution_count": 104,
     "metadata": {},
     "output_type": "execute_result"
    }
   ],
   "execution_count": 104
  },
  {
   "metadata": {},
   "cell_type": "markdown",
   "source": [
    "## Non masked examples\n",
    "In this section we'll analyse the effect of EGL on non-masked videos"
   ],
   "id": "5be3b031cb57da6b"
  },
  {
   "metadata": {
    "ExecuteTime": {
     "end_time": "2025-03-10T11:14:21.101461Z",
     "start_time": "2025-03-10T11:14:20.448283Z"
    }
   },
   "cell_type": "code",
   "source": [
    "# `not_in=True` negates the video_ids, i.e. we now query for video_ids for which NO mask exists.\n",
    "before_egl_df = accuracy_per_video(run22_id, start_epoch - 10, masked_video_ids, not_in=True)\n",
    "after_egl_df = accuracy_per_video(run30_id, max_epoch - 10, masked_video_ids, not_in=True)\n",
    "len(before_egl_df), len(after_egl_df)"
   ],
   "id": "41d48814624debce",
   "outputs": [
    {
     "data": {
      "text/plain": [
       "(7979, 7979)"
      ]
     },
     "execution_count": 105,
     "metadata": {},
     "output_type": "execute_result"
    }
   ],
   "execution_count": 105
  },
  {
   "metadata": {
    "ExecuteTime": {
     "end_time": "2025-03-10T11:14:22.557155Z",
     "start_time": "2025-03-10T11:14:22.537201Z"
    }
   },
   "cell_type": "code",
   "source": "before_egl_df.head(3)",
   "id": "82b9f3912d580263",
   "outputs": [
    {
     "data": {
      "text/plain": [
       "            video_id  acc\n",
       "0  -mmq0PT-u8k_00006  1.0\n",
       "1  -mmq0PT-u8k_00011  1.0\n",
       "2  -mmq0PT-u8k_00012  1.0"
      ],
      "text/html": [
       "<div>\n",
       "<style scoped>\n",
       "    .dataframe tbody tr th:only-of-type {\n",
       "        vertical-align: middle;\n",
       "    }\n",
       "\n",
       "    .dataframe tbody tr th {\n",
       "        vertical-align: top;\n",
       "    }\n",
       "\n",
       "    .dataframe thead th {\n",
       "        text-align: right;\n",
       "    }\n",
       "</style>\n",
       "<table border=\"1\" class=\"dataframe\">\n",
       "  <thead>\n",
       "    <tr style=\"text-align: right;\">\n",
       "      <th></th>\n",
       "      <th>video_id</th>\n",
       "      <th>acc</th>\n",
       "    </tr>\n",
       "  </thead>\n",
       "  <tbody>\n",
       "    <tr>\n",
       "      <th>0</th>\n",
       "      <td>-mmq0PT-u8k_00006</td>\n",
       "      <td>1.0</td>\n",
       "    </tr>\n",
       "    <tr>\n",
       "      <th>1</th>\n",
       "      <td>-mmq0PT-u8k_00011</td>\n",
       "      <td>1.0</td>\n",
       "    </tr>\n",
       "    <tr>\n",
       "      <th>2</th>\n",
       "      <td>-mmq0PT-u8k_00012</td>\n",
       "      <td>1.0</td>\n",
       "    </tr>\n",
       "  </tbody>\n",
       "</table>\n",
       "</div>"
      ]
     },
     "execution_count": 106,
     "metadata": {},
     "output_type": "execute_result"
    }
   ],
   "execution_count": 106
  },
  {
   "metadata": {
    "ExecuteTime": {
     "end_time": "2025-03-10T11:14:24.782266Z",
     "start_time": "2025-03-10T11:14:24.761906Z"
    }
   },
   "cell_type": "code",
   "source": "after_egl_df.head(3)",
   "id": "d21196f2d4ebadb2",
   "outputs": [
    {
     "data": {
      "text/plain": [
       "            video_id  acc\n",
       "0  D8YKHC5hmUs_00138  0.3\n",
       "1  zbAC7t15q3k_00057  0.3\n",
       "2  -mmq0PT-u8k_00115  0.5"
      ],
      "text/html": [
       "<div>\n",
       "<style scoped>\n",
       "    .dataframe tbody tr th:only-of-type {\n",
       "        vertical-align: middle;\n",
       "    }\n",
       "\n",
       "    .dataframe tbody tr th {\n",
       "        vertical-align: top;\n",
       "    }\n",
       "\n",
       "    .dataframe thead th {\n",
       "        text-align: right;\n",
       "    }\n",
       "</style>\n",
       "<table border=\"1\" class=\"dataframe\">\n",
       "  <thead>\n",
       "    <tr style=\"text-align: right;\">\n",
       "      <th></th>\n",
       "      <th>video_id</th>\n",
       "      <th>acc</th>\n",
       "    </tr>\n",
       "  </thead>\n",
       "  <tbody>\n",
       "    <tr>\n",
       "      <th>0</th>\n",
       "      <td>D8YKHC5hmUs_00138</td>\n",
       "      <td>0.3</td>\n",
       "    </tr>\n",
       "    <tr>\n",
       "      <th>1</th>\n",
       "      <td>zbAC7t15q3k_00057</td>\n",
       "      <td>0.3</td>\n",
       "    </tr>\n",
       "    <tr>\n",
       "      <th>2</th>\n",
       "      <td>-mmq0PT-u8k_00115</td>\n",
       "      <td>0.5</td>\n",
       "    </tr>\n",
       "  </tbody>\n",
       "</table>\n",
       "</div>"
      ]
     },
     "execution_count": 107,
     "metadata": {},
     "output_type": "execute_result"
    }
   ],
   "execution_count": 107
  },
  {
   "metadata": {
    "ExecuteTime": {
     "end_time": "2025-03-10T11:14:27.263017Z",
     "start_time": "2025-03-10T11:14:27.240783Z"
    }
   },
   "cell_type": "code",
   "source": [
    "combined_df = before_egl_df.merge(after_egl_df, on='video_id', how='inner')\n",
    "combined_df.rename(columns={'acc_x': 'acc_before'}, inplace=True)\n",
    "combined_df.rename(columns={'acc_y': 'acc_after'}, inplace=True)\n",
    "combined_df.head(7)"
   ],
   "id": "36e42cb2d55805dd",
   "outputs": [
    {
     "data": {
      "text/plain": [
       "            video_id  acc_before  acc_after\n",
       "0  -mmq0PT-u8k_00006         1.0   1.000000\n",
       "1  -mmq0PT-u8k_00011         1.0   0.900000\n",
       "2  -mmq0PT-u8k_00012         1.0   1.000000\n",
       "3  -mmq0PT-u8k_00013         1.0   0.900000\n",
       "4  -mmq0PT-u8k_00014         1.0   0.888889\n",
       "5  -mmq0PT-u8k_00015         1.0   0.900000\n",
       "6  -mmq0PT-u8k_00019         1.0   1.000000"
      ],
      "text/html": [
       "<div>\n",
       "<style scoped>\n",
       "    .dataframe tbody tr th:only-of-type {\n",
       "        vertical-align: middle;\n",
       "    }\n",
       "\n",
       "    .dataframe tbody tr th {\n",
       "        vertical-align: top;\n",
       "    }\n",
       "\n",
       "    .dataframe thead th {\n",
       "        text-align: right;\n",
       "    }\n",
       "</style>\n",
       "<table border=\"1\" class=\"dataframe\">\n",
       "  <thead>\n",
       "    <tr style=\"text-align: right;\">\n",
       "      <th></th>\n",
       "      <th>video_id</th>\n",
       "      <th>acc_before</th>\n",
       "      <th>acc_after</th>\n",
       "    </tr>\n",
       "  </thead>\n",
       "  <tbody>\n",
       "    <tr>\n",
       "      <th>0</th>\n",
       "      <td>-mmq0PT-u8k_00006</td>\n",
       "      <td>1.0</td>\n",
       "      <td>1.000000</td>\n",
       "    </tr>\n",
       "    <tr>\n",
       "      <th>1</th>\n",
       "      <td>-mmq0PT-u8k_00011</td>\n",
       "      <td>1.0</td>\n",
       "      <td>0.900000</td>\n",
       "    </tr>\n",
       "    <tr>\n",
       "      <th>2</th>\n",
       "      <td>-mmq0PT-u8k_00012</td>\n",
       "      <td>1.0</td>\n",
       "      <td>1.000000</td>\n",
       "    </tr>\n",
       "    <tr>\n",
       "      <th>3</th>\n",
       "      <td>-mmq0PT-u8k_00013</td>\n",
       "      <td>1.0</td>\n",
       "      <td>0.900000</td>\n",
       "    </tr>\n",
       "    <tr>\n",
       "      <th>4</th>\n",
       "      <td>-mmq0PT-u8k_00014</td>\n",
       "      <td>1.0</td>\n",
       "      <td>0.888889</td>\n",
       "    </tr>\n",
       "    <tr>\n",
       "      <th>5</th>\n",
       "      <td>-mmq0PT-u8k_00015</td>\n",
       "      <td>1.0</td>\n",
       "      <td>0.900000</td>\n",
       "    </tr>\n",
       "    <tr>\n",
       "      <th>6</th>\n",
       "      <td>-mmq0PT-u8k_00019</td>\n",
       "      <td>1.0</td>\n",
       "      <td>1.000000</td>\n",
       "    </tr>\n",
       "  </tbody>\n",
       "</table>\n",
       "</div>"
      ]
     },
     "execution_count": 108,
     "metadata": {},
     "output_type": "execute_result"
    }
   ],
   "execution_count": 108
  },
  {
   "metadata": {
    "ExecuteTime": {
     "end_time": "2025-03-10T11:14:31.033922Z",
     "start_time": "2025-03-10T11:14:31.012213Z"
    }
   },
   "cell_type": "code",
   "source": [
    "combined_df['change'] = combined_df['acc_after'] - combined_df['acc_before']\n",
    "combined_df"
   ],
   "id": "6023514a45a55a6f",
   "outputs": [
    {
     "data": {
      "text/plain": [
       "               video_id  acc_before  acc_after    change\n",
       "0     -mmq0PT-u8k_00006         1.0   1.000000  0.000000\n",
       "1     -mmq0PT-u8k_00011         1.0   0.900000 -0.100000\n",
       "2     -mmq0PT-u8k_00012         1.0   1.000000  0.000000\n",
       "3     -mmq0PT-u8k_00013         1.0   0.900000 -0.100000\n",
       "4     -mmq0PT-u8k_00014         1.0   0.888889 -0.111111\n",
       "...                 ...         ...        ...       ...\n",
       "7974  zbAC7t15q3k_00145         1.0   0.900000 -0.100000\n",
       "7975  zbAC7t15q3k_00148         1.0   0.888889 -0.111111\n",
       "7976  zbAC7t15q3k_00150         1.0   1.000000  0.000000\n",
       "7977  zbAC7t15q3k_00151         1.0   0.888889 -0.111111\n",
       "7978  zbAC7t15q3k_00152         1.0   0.900000 -0.100000\n",
       "\n",
       "[7979 rows x 4 columns]"
      ],
      "text/html": [
       "<div>\n",
       "<style scoped>\n",
       "    .dataframe tbody tr th:only-of-type {\n",
       "        vertical-align: middle;\n",
       "    }\n",
       "\n",
       "    .dataframe tbody tr th {\n",
       "        vertical-align: top;\n",
       "    }\n",
       "\n",
       "    .dataframe thead th {\n",
       "        text-align: right;\n",
       "    }\n",
       "</style>\n",
       "<table border=\"1\" class=\"dataframe\">\n",
       "  <thead>\n",
       "    <tr style=\"text-align: right;\">\n",
       "      <th></th>\n",
       "      <th>video_id</th>\n",
       "      <th>acc_before</th>\n",
       "      <th>acc_after</th>\n",
       "      <th>change</th>\n",
       "    </tr>\n",
       "  </thead>\n",
       "  <tbody>\n",
       "    <tr>\n",
       "      <th>0</th>\n",
       "      <td>-mmq0PT-u8k_00006</td>\n",
       "      <td>1.0</td>\n",
       "      <td>1.000000</td>\n",
       "      <td>0.000000</td>\n",
       "    </tr>\n",
       "    <tr>\n",
       "      <th>1</th>\n",
       "      <td>-mmq0PT-u8k_00011</td>\n",
       "      <td>1.0</td>\n",
       "      <td>0.900000</td>\n",
       "      <td>-0.100000</td>\n",
       "    </tr>\n",
       "    <tr>\n",
       "      <th>2</th>\n",
       "      <td>-mmq0PT-u8k_00012</td>\n",
       "      <td>1.0</td>\n",
       "      <td>1.000000</td>\n",
       "      <td>0.000000</td>\n",
       "    </tr>\n",
       "    <tr>\n",
       "      <th>3</th>\n",
       "      <td>-mmq0PT-u8k_00013</td>\n",
       "      <td>1.0</td>\n",
       "      <td>0.900000</td>\n",
       "      <td>-0.100000</td>\n",
       "    </tr>\n",
       "    <tr>\n",
       "      <th>4</th>\n",
       "      <td>-mmq0PT-u8k_00014</td>\n",
       "      <td>1.0</td>\n",
       "      <td>0.888889</td>\n",
       "      <td>-0.111111</td>\n",
       "    </tr>\n",
       "    <tr>\n",
       "      <th>...</th>\n",
       "      <td>...</td>\n",
       "      <td>...</td>\n",
       "      <td>...</td>\n",
       "      <td>...</td>\n",
       "    </tr>\n",
       "    <tr>\n",
       "      <th>7974</th>\n",
       "      <td>zbAC7t15q3k_00145</td>\n",
       "      <td>1.0</td>\n",
       "      <td>0.900000</td>\n",
       "      <td>-0.100000</td>\n",
       "    </tr>\n",
       "    <tr>\n",
       "      <th>7975</th>\n",
       "      <td>zbAC7t15q3k_00148</td>\n",
       "      <td>1.0</td>\n",
       "      <td>0.888889</td>\n",
       "      <td>-0.111111</td>\n",
       "    </tr>\n",
       "    <tr>\n",
       "      <th>7976</th>\n",
       "      <td>zbAC7t15q3k_00150</td>\n",
       "      <td>1.0</td>\n",
       "      <td>1.000000</td>\n",
       "      <td>0.000000</td>\n",
       "    </tr>\n",
       "    <tr>\n",
       "      <th>7977</th>\n",
       "      <td>zbAC7t15q3k_00151</td>\n",
       "      <td>1.0</td>\n",
       "      <td>0.888889</td>\n",
       "      <td>-0.111111</td>\n",
       "    </tr>\n",
       "    <tr>\n",
       "      <th>7978</th>\n",
       "      <td>zbAC7t15q3k_00152</td>\n",
       "      <td>1.0</td>\n",
       "      <td>0.900000</td>\n",
       "      <td>-0.100000</td>\n",
       "    </tr>\n",
       "  </tbody>\n",
       "</table>\n",
       "<p>7979 rows × 4 columns</p>\n",
       "</div>"
      ]
     },
     "execution_count": 109,
     "metadata": {},
     "output_type": "execute_result"
    }
   ],
   "execution_count": 109
  },
  {
   "metadata": {
    "ExecuteTime": {
     "end_time": "2025-03-10T11:14:33.702653Z",
     "start_time": "2025-03-10T11:14:33.684376Z"
    }
   },
   "cell_type": "code",
   "source": "combined_df['change'].mean() * 100",
   "id": "500e1b94b9d4f820",
   "outputs": [
    {
     "data": {
      "text/plain": [
       "-5.341242985057999"
      ]
     },
     "execution_count": 110,
     "metadata": {},
     "output_type": "execute_result"
    }
   ],
   "execution_count": 110
  },
  {
   "metadata": {},
   "cell_type": "markdown",
   "source": "Observing the before and after results for the __training__ set we can conclude that the EGL method had, on average, a positive effect on the videos individual performance.",
   "id": "385a307f564d40ab"
  },
  {
   "metadata": {},
   "cell_type": "markdown",
   "source": [
    "## Analyses of the test results\n",
    "In this section we'll get all the test video_ids and determine whether their performance improved by using the RRRLoss."
   ],
   "id": "eb5a0a7f7c5db79d"
  },
  {
   "metadata": {
    "ExecuteTime": {
     "end_time": "2025-03-10T11:11:48.138603Z",
     "start_time": "2025-03-10T11:11:47.903015Z"
    }
   },
   "cell_type": "code",
   "source": [
    "test_video_ids = stats.execute_query(\"\"\"SELECT DISTINCT(video_id)\n",
    "FROM stats\n",
    "WHERE split = 'test'\"\"\", extractor=get_column(0))\n",
    "len(test_video_ids)"
   ],
   "id": "4688ca9aae4b2983",
   "outputs": [
    {
     "data": {
      "text/plain": [
       "1970"
      ]
     },
     "execution_count": 96,
     "metadata": {},
     "output_type": "execute_result"
    }
   ],
   "execution_count": 96
  },
  {
   "metadata": {
    "ExecuteTime": {
     "end_time": "2025-03-10T11:21:29.588662Z",
     "start_time": "2025-03-10T11:21:28.930868Z"
    }
   },
   "cell_type": "code",
   "source": [
    "before_egl_df = accuracy_per_video(run22_id, start_epoch - 10, test_video_ids, not_in=True)\n",
    "after_egl_df = accuracy_per_video(run30_id, max_epoch - 10, test_video_ids, not_in=True)"
   ],
   "id": "3ccdac5efc897443",
   "outputs": [],
   "execution_count": 135
  },
  {
   "metadata": {
    "ExecuteTime": {
     "end_time": "2025-03-10T11:21:30.427440Z",
     "start_time": "2025-03-10T11:21:30.408686Z"
    }
   },
   "cell_type": "code",
   "source": "after_egl_df.head(3)",
   "id": "61384c1765712802",
   "outputs": [
    {
     "data": {
      "text/plain": [
       "            video_id       acc\n",
       "0  mGbuP7nT2ck_00014  0.222222\n",
       "1  zYHstCxnAPA_00159  0.222222\n",
       "2  9jZYYtzYqwE_00070  0.300000"
      ],
      "text/html": [
       "<div>\n",
       "<style scoped>\n",
       "    .dataframe tbody tr th:only-of-type {\n",
       "        vertical-align: middle;\n",
       "    }\n",
       "\n",
       "    .dataframe tbody tr th {\n",
       "        vertical-align: top;\n",
       "    }\n",
       "\n",
       "    .dataframe thead th {\n",
       "        text-align: right;\n",
       "    }\n",
       "</style>\n",
       "<table border=\"1\" class=\"dataframe\">\n",
       "  <thead>\n",
       "    <tr style=\"text-align: right;\">\n",
       "      <th></th>\n",
       "      <th>video_id</th>\n",
       "      <th>acc</th>\n",
       "    </tr>\n",
       "  </thead>\n",
       "  <tbody>\n",
       "    <tr>\n",
       "      <th>0</th>\n",
       "      <td>mGbuP7nT2ck_00014</td>\n",
       "      <td>0.222222</td>\n",
       "    </tr>\n",
       "    <tr>\n",
       "      <th>1</th>\n",
       "      <td>zYHstCxnAPA_00159</td>\n",
       "      <td>0.222222</td>\n",
       "    </tr>\n",
       "    <tr>\n",
       "      <th>2</th>\n",
       "      <td>9jZYYtzYqwE_00070</td>\n",
       "      <td>0.300000</td>\n",
       "    </tr>\n",
       "  </tbody>\n",
       "</table>\n",
       "</div>"
      ]
     },
     "execution_count": 136,
     "metadata": {},
     "output_type": "execute_result"
    }
   ],
   "execution_count": 136
  },
  {
   "metadata": {
    "ExecuteTime": {
     "end_time": "2025-03-10T11:21:31.971975Z",
     "start_time": "2025-03-10T11:21:31.946412Z"
    }
   },
   "cell_type": "code",
   "source": [
    "combined_df = before_egl_df.merge(after_egl_df, on='video_id', how='inner')\n",
    "combined_df.rename(columns={'acc_x': 'acc_before'}, inplace=True)\n",
    "combined_df.rename(columns={'acc_y': 'acc_after'}, inplace=True)\n",
    "combined_df.head(7)"
   ],
   "id": "50c0009b24fa3bc6",
   "outputs": [
    {
     "data": {
      "text/plain": [
       "            video_id  acc_before  acc_after\n",
       "0  _lmT4WlK7G0_00012    0.100000   0.400000\n",
       "1  VNvb5oLOpLg_00296    0.200000   0.400000\n",
       "2  k1F4LHeYhBs_00207    0.300000   0.333333\n",
       "3  vlfy4cny75s_00070    0.300000   0.600000\n",
       "4  zYHstCxnAPA_00328    0.300000   0.300000\n",
       "5  D8YKHC5hmUs_00034    0.333333   1.000000\n",
       "6  LkluZoNfKu8_00103    0.400000   0.300000"
      ],
      "text/html": [
       "<div>\n",
       "<style scoped>\n",
       "    .dataframe tbody tr th:only-of-type {\n",
       "        vertical-align: middle;\n",
       "    }\n",
       "\n",
       "    .dataframe tbody tr th {\n",
       "        vertical-align: top;\n",
       "    }\n",
       "\n",
       "    .dataframe thead th {\n",
       "        text-align: right;\n",
       "    }\n",
       "</style>\n",
       "<table border=\"1\" class=\"dataframe\">\n",
       "  <thead>\n",
       "    <tr style=\"text-align: right;\">\n",
       "      <th></th>\n",
       "      <th>video_id</th>\n",
       "      <th>acc_before</th>\n",
       "      <th>acc_after</th>\n",
       "    </tr>\n",
       "  </thead>\n",
       "  <tbody>\n",
       "    <tr>\n",
       "      <th>0</th>\n",
       "      <td>_lmT4WlK7G0_00012</td>\n",
       "      <td>0.100000</td>\n",
       "      <td>0.400000</td>\n",
       "    </tr>\n",
       "    <tr>\n",
       "      <th>1</th>\n",
       "      <td>VNvb5oLOpLg_00296</td>\n",
       "      <td>0.200000</td>\n",
       "      <td>0.400000</td>\n",
       "    </tr>\n",
       "    <tr>\n",
       "      <th>2</th>\n",
       "      <td>k1F4LHeYhBs_00207</td>\n",
       "      <td>0.300000</td>\n",
       "      <td>0.333333</td>\n",
       "    </tr>\n",
       "    <tr>\n",
       "      <th>3</th>\n",
       "      <td>vlfy4cny75s_00070</td>\n",
       "      <td>0.300000</td>\n",
       "      <td>0.600000</td>\n",
       "    </tr>\n",
       "    <tr>\n",
       "      <th>4</th>\n",
       "      <td>zYHstCxnAPA_00328</td>\n",
       "      <td>0.300000</td>\n",
       "      <td>0.300000</td>\n",
       "    </tr>\n",
       "    <tr>\n",
       "      <th>5</th>\n",
       "      <td>D8YKHC5hmUs_00034</td>\n",
       "      <td>0.333333</td>\n",
       "      <td>1.000000</td>\n",
       "    </tr>\n",
       "    <tr>\n",
       "      <th>6</th>\n",
       "      <td>LkluZoNfKu8_00103</td>\n",
       "      <td>0.400000</td>\n",
       "      <td>0.300000</td>\n",
       "    </tr>\n",
       "  </tbody>\n",
       "</table>\n",
       "</div>"
      ]
     },
     "execution_count": 137,
     "metadata": {},
     "output_type": "execute_result"
    }
   ],
   "execution_count": 137
  },
  {
   "metadata": {
    "ExecuteTime": {
     "end_time": "2025-03-10T11:21:43.832292Z",
     "start_time": "2025-03-10T11:21:43.807576Z"
    }
   },
   "cell_type": "code",
   "source": [
    "combined_df['change'] = combined_df['acc_after'] - combined_df['acc_before']\n",
    "combined_df"
   ],
   "id": "373779610b638524",
   "outputs": [
    {
     "data": {
      "text/plain": [
       "                video_id  acc_before  acc_after    change\n",
       "0      _lmT4WlK7G0_00012         0.1   0.400000  0.300000\n",
       "1      VNvb5oLOpLg_00296         0.2   0.400000  0.200000\n",
       "2      k1F4LHeYhBs_00207         0.3   0.333333  0.033333\n",
       "3      vlfy4cny75s_00070         0.3   0.600000  0.300000\n",
       "4      zYHstCxnAPA_00328         0.3   0.300000  0.000000\n",
       "...                  ...         ...        ...       ...\n",
       "15022  zbAC7t15q3k_00145         1.0   0.900000 -0.100000\n",
       "15023  zbAC7t15q3k_00148         1.0   0.888889 -0.111111\n",
       "15024  zbAC7t15q3k_00150         1.0   1.000000  0.000000\n",
       "15025  zbAC7t15q3k_00151         1.0   0.888889 -0.111111\n",
       "15026  zbAC7t15q3k_00152         1.0   0.900000 -0.100000\n",
       "\n",
       "[15027 rows x 4 columns]"
      ],
      "text/html": [
       "<div>\n",
       "<style scoped>\n",
       "    .dataframe tbody tr th:only-of-type {\n",
       "        vertical-align: middle;\n",
       "    }\n",
       "\n",
       "    .dataframe tbody tr th {\n",
       "        vertical-align: top;\n",
       "    }\n",
       "\n",
       "    .dataframe thead th {\n",
       "        text-align: right;\n",
       "    }\n",
       "</style>\n",
       "<table border=\"1\" class=\"dataframe\">\n",
       "  <thead>\n",
       "    <tr style=\"text-align: right;\">\n",
       "      <th></th>\n",
       "      <th>video_id</th>\n",
       "      <th>acc_before</th>\n",
       "      <th>acc_after</th>\n",
       "      <th>change</th>\n",
       "    </tr>\n",
       "  </thead>\n",
       "  <tbody>\n",
       "    <tr>\n",
       "      <th>0</th>\n",
       "      <td>_lmT4WlK7G0_00012</td>\n",
       "      <td>0.1</td>\n",
       "      <td>0.400000</td>\n",
       "      <td>0.300000</td>\n",
       "    </tr>\n",
       "    <tr>\n",
       "      <th>1</th>\n",
       "      <td>VNvb5oLOpLg_00296</td>\n",
       "      <td>0.2</td>\n",
       "      <td>0.400000</td>\n",
       "      <td>0.200000</td>\n",
       "    </tr>\n",
       "    <tr>\n",
       "      <th>2</th>\n",
       "      <td>k1F4LHeYhBs_00207</td>\n",
       "      <td>0.3</td>\n",
       "      <td>0.333333</td>\n",
       "      <td>0.033333</td>\n",
       "    </tr>\n",
       "    <tr>\n",
       "      <th>3</th>\n",
       "      <td>vlfy4cny75s_00070</td>\n",
       "      <td>0.3</td>\n",
       "      <td>0.600000</td>\n",
       "      <td>0.300000</td>\n",
       "    </tr>\n",
       "    <tr>\n",
       "      <th>4</th>\n",
       "      <td>zYHstCxnAPA_00328</td>\n",
       "      <td>0.3</td>\n",
       "      <td>0.300000</td>\n",
       "      <td>0.000000</td>\n",
       "    </tr>\n",
       "    <tr>\n",
       "      <th>...</th>\n",
       "      <td>...</td>\n",
       "      <td>...</td>\n",
       "      <td>...</td>\n",
       "      <td>...</td>\n",
       "    </tr>\n",
       "    <tr>\n",
       "      <th>15022</th>\n",
       "      <td>zbAC7t15q3k_00145</td>\n",
       "      <td>1.0</td>\n",
       "      <td>0.900000</td>\n",
       "      <td>-0.100000</td>\n",
       "    </tr>\n",
       "    <tr>\n",
       "      <th>15023</th>\n",
       "      <td>zbAC7t15q3k_00148</td>\n",
       "      <td>1.0</td>\n",
       "      <td>0.888889</td>\n",
       "      <td>-0.111111</td>\n",
       "    </tr>\n",
       "    <tr>\n",
       "      <th>15024</th>\n",
       "      <td>zbAC7t15q3k_00150</td>\n",
       "      <td>1.0</td>\n",
       "      <td>1.000000</td>\n",
       "      <td>0.000000</td>\n",
       "    </tr>\n",
       "    <tr>\n",
       "      <th>15025</th>\n",
       "      <td>zbAC7t15q3k_00151</td>\n",
       "      <td>1.0</td>\n",
       "      <td>0.888889</td>\n",
       "      <td>-0.111111</td>\n",
       "    </tr>\n",
       "    <tr>\n",
       "      <th>15026</th>\n",
       "      <td>zbAC7t15q3k_00152</td>\n",
       "      <td>1.0</td>\n",
       "      <td>0.900000</td>\n",
       "      <td>-0.100000</td>\n",
       "    </tr>\n",
       "  </tbody>\n",
       "</table>\n",
       "<p>15027 rows × 4 columns</p>\n",
       "</div>"
      ]
     },
     "execution_count": 138,
     "metadata": {},
     "output_type": "execute_result"
    }
   ],
   "execution_count": 138
  },
  {
   "metadata": {
    "ExecuteTime": {
     "end_time": "2025-03-10T12:49:56.212581Z",
     "start_time": "2025-03-10T12:49:56.193253Z"
    }
   },
   "cell_type": "code",
   "source": "combined_df['change'].mean() * 100",
   "id": "e7141ba43e005240",
   "outputs": [
    {
     "data": {
      "text/plain": [
       "-0.33413929001870746"
      ]
     },
     "execution_count": 143,
     "metadata": {},
     "output_type": "execute_result"
    }
   ],
   "execution_count": 143
  },
  {
   "metadata": {
    "ExecuteTime": {
     "end_time": "2025-03-10T13:01:22.788399Z",
     "start_time": "2025-03-10T13:01:22.613106Z"
    }
   },
   "cell_type": "code",
   "source": [
    "stats.execute_query(\n",
    "f\"\"\"SELECT epoch, (correct_n / n) as acc FROM(\n",
    "            SELECT\n",
    "                video_id,\n",
    "                gt,\n",
    "                epoch,\n",
    "                CAST(SUM(CASE WHEN pred = gt THEN 1 ELSE 0 END) as REAL) as correct_n,\n",
    "                CAST(COUNT(*) as REAL) as n\n",
    "            FROM stats\n",
    "            WHERE split = 'test'\n",
    "            GROUP BY epoch\n",
    "        ) ORDER BY epoch DESC\n",
    "        \"\"\",\n",
    "    extractor=get_df\n",
    ").head(3)"
   ],
   "id": "4122dbb404eeaefc",
   "outputs": [
    {
     "data": {
      "text/plain": [
       "   epoch       acc\n",
       "0    150  0.810152\n",
       "1    140  0.712690\n",
       "2    130  0.817766"
      ],
      "text/html": [
       "<div>\n",
       "<style scoped>\n",
       "    .dataframe tbody tr th:only-of-type {\n",
       "        vertical-align: middle;\n",
       "    }\n",
       "\n",
       "    .dataframe tbody tr th {\n",
       "        vertical-align: top;\n",
       "    }\n",
       "\n",
       "    .dataframe thead th {\n",
       "        text-align: right;\n",
       "    }\n",
       "</style>\n",
       "<table border=\"1\" class=\"dataframe\">\n",
       "  <thead>\n",
       "    <tr style=\"text-align: right;\">\n",
       "      <th></th>\n",
       "      <th>epoch</th>\n",
       "      <th>acc</th>\n",
       "    </tr>\n",
       "  </thead>\n",
       "  <tbody>\n",
       "    <tr>\n",
       "      <th>0</th>\n",
       "      <td>150</td>\n",
       "      <td>0.810152</td>\n",
       "    </tr>\n",
       "    <tr>\n",
       "      <th>1</th>\n",
       "      <td>140</td>\n",
       "      <td>0.712690</td>\n",
       "    </tr>\n",
       "    <tr>\n",
       "      <th>2</th>\n",
       "      <td>130</td>\n",
       "      <td>0.817766</td>\n",
       "    </tr>\n",
       "  </tbody>\n",
       "</table>\n",
       "</div>"
      ]
     },
     "execution_count": 152,
     "metadata": {},
     "output_type": "execute_result"
    }
   ],
   "execution_count": 152
  },
  {
   "metadata": {
    "ExecuteTime": {
     "end_time": "2025-03-10T13:06:43.279982Z",
     "start_time": "2025-03-10T13:06:43.260573Z"
    }
   },
   "cell_type": "code",
   "source": "combined_df[:500]['change'].mean() * 100, combined_df[:100]['change'].mean() * 100",
   "id": "edce5973fd41917c",
   "outputs": [
    {
     "data": {
      "text/plain": [
       "(16.82666666666667, 19.17777777777778)"
      ]
     },
     "execution_count": 159,
     "metadata": {},
     "output_type": "execute_result"
    }
   ],
   "execution_count": 159
  }
 ],
 "metadata": {
  "kernelspec": {
   "display_name": "Python 3",
   "language": "python",
   "name": "python3"
  },
  "language_info": {
   "codemirror_mode": {
    "name": "ipython",
    "version": 2
   },
   "file_extension": ".py",
   "mimetype": "text/x-python",
   "name": "python",
   "nbconvert_exporter": "python",
   "pygments_lexer": "ipython2",
   "version": "2.7.6"
  }
 },
 "nbformat": 4,
 "nbformat_minor": 5
}
