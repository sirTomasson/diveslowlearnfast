{
 "cells": [
  {
   "metadata": {
    "ExecuteTime": {
     "end_time": "2025-02-24T09:49:23.453073Z",
     "start_time": "2025-02-24T09:49:21.565932Z"
    }
   },
   "cell_type": "code",
   "source": [
    "\n",
    "import torch\n",
    "import torch.nn as nn\n",
    "import torch.optim as optim\n",
    "import torchvision\n",
    "import torchvision.transforms as transforms\n",
    "from torch.utils.data import DataLoader\n",
    "from torchvision.models import resnet18\n",
    "import torch.nn.functional as F\n",
    "\n",
    "import matplotlib.pyplot as plt\n",
    "\n",
    "import numpy as np"
   ],
   "id": "b3cfd39775f0845",
   "outputs": [],
   "execution_count": 1
  },
  {
   "metadata": {
    "ExecuteTime": {
     "end_time": "2025-02-19T13:55:40.186237Z",
     "start_time": "2025-02-19T13:55:40.182567Z"
    }
   },
   "cell_type": "code",
   "source": [
    "import logging\n",
    "import os\n",
    "\n",
    "import torch\n",
    "import torch.nn as nn\n",
    "import torch.nn.functional as F\n",
    "\n",
    "logging.basicConfig(level=os.getenv('LOG_LEVEL', 'ERROR'))\n",
    "\n",
    "logger = logging.getLogger(__name__)\n",
    "\n",
    "class RRRLoss(nn.Module):\n",
    "    def __init__(self, lambda1=1000.0):\n",
    "        \"\"\"\n",
    "        Right for the Right Reasons loss function.\n",
    "\n",
    "        Bibtex:\n",
    "            @article{ross2017RRR,\n",
    "              title={Right for the right reasons: Training differentiable models by constraining their explanations},\n",
    "              author={Ross, Andrew Slavin and Hughes, Michael C and Doshi-Velez, Finale},\n",
    "              journal={arXiv preprint arXiv:1703.03717},\n",
    "              year={2017}\n",
    "            }\n",
    "\n",
    "        Args:\n",
    "            lambda1: Weight for the explanation (input gradient) loss term\n",
    "        \"\"\"\n",
    "        super().__init__()\n",
    "        self.lambda1 = lambda1\n",
    "        self.cross_entropy = nn.CrossEntropyLoss()\n",
    "\n",
    "    def forward(self, logits, targets, inputs, masks):\n",
    "        \"\"\"\n",
    "        Compute the RRR loss.\n",
    "\n",
    "        Args:\n",
    "            logits: Model output logits (B x num_classes)\n",
    "            targets: Ground truth labels (B)\n",
    "            model: The model being trained\n",
    "            inputs: Input data (B x ...)\n",
    "            masks: Binary masks indicating where gradients should be small (B x ...)\n",
    "\n",
    "        Returns:\n",
    "            total_loss: Combined loss value\n",
    "            losses: Dictionary containing individual loss components\n",
    "        \"\"\"\n",
    "        ce_loss = self.cross_entropy(logits, targets)\n",
    "        # boolean mask to select indices for which there is a mask available\n",
    "        # this little optimisation ensures that we do not use autograd on inputs that will\n",
    "        # be ignored anyway\n",
    "        log_probs = F.softmax(logits, dim=1)\n",
    "        summed_log_probs = log_probs.sum()\n",
    "        gradients = torch.autograd.grad(summed_log_probs, inputs, create_graph=True, retain_graph=True)[0]\n",
    "        gradient_loss = (masks * gradients).pow(2).mean()\n",
    "        gradient_loss_item = gradient_loss.item()\n",
    "\n",
    "        total_loss = ce_loss + self.lambda1 * gradient_loss\n",
    "\n",
    "        losses = {\n",
    "            'total_loss': total_loss.item(),\n",
    "            'ce_loss': ce_loss.item(),\n",
    "            'gradient_loss': gradient_loss_item\n",
    "        }\n",
    "\n",
    "        return total_loss, losses\n"
   ],
   "id": "7dbb70a419db3c86",
   "outputs": [],
   "execution_count": 2
  },
  {
   "metadata": {
    "ExecuteTime": {
     "end_time": "2025-02-19T13:55:40.471144Z",
     "start_time": "2025-02-19T13:55:40.269811Z"
    }
   },
   "cell_type": "code",
   "source": [
    "# Set device\n",
    "device = torch.device('cuda' if torch.cuda.is_available() else 'cpu')\n",
    "\n",
    "# Define transforms\n",
    "transform = transforms.Compose([\n",
    "    transforms.Resize(32),  # ResNet expects 32x32 images\n",
    "    transforms.ToTensor(),\n",
    "    transforms.Normalize((0.1307,), (0.3081,))  # MNIST mean and std\n",
    "])\n",
    "\n",
    "# Load MNIST dataset\n",
    "train_dataset = torchvision.datasets.MNIST(root='./data',\n",
    "                                         train=True,\n",
    "                                         transform=transform,\n",
    "                                         download=True)\n",
    "\n",
    "test_dataset = torchvision.datasets.MNIST(root='./data',\n",
    "                                        train=False,\n",
    "                                        transform=transform)\n",
    "\n",
    "train_loader = DataLoader(train_dataset, batch_size=64, shuffle=True)\n",
    "test_loader = DataLoader(test_dataset, batch_size=64, shuffle=False)\n",
    "\n",
    "# Initialize model\n",
    "model = resnet18(pretrained=False)\n",
    "# Modify first layer to accept single channel\n",
    "model.conv1 = nn.Conv2d(1, 64, kernel_size=7, stride=2, padding=3, bias=False)\n",
    "# Modify final layer to output 10 classes\n",
    "model.fc = nn.Linear(model.fc.in_features, 10)\n",
    "model = model.to(device)\n",
    "\n",
    "# Loss function and optimizer\n",
    "criterion = nn.CrossEntropyLoss()\n",
    "optimizer = optim.Adam(model.parameters(), lr=0.001)"
   ],
   "id": "6a0ad10931c3759d",
   "outputs": [
    {
     "name": "stderr",
     "output_type": "stream",
     "text": [
      "/Users/youritomassen/Projects/Uni/Master Thesis/diveslowlearnfast/.venv/lib/python3.12/site-packages/torchvision/models/_utils.py:208: UserWarning: The parameter 'pretrained' is deprecated since 0.13 and may be removed in the future, please use 'weights' instead.\n",
      "  warnings.warn(\n",
      "/Users/youritomassen/Projects/Uni/Master Thesis/diveslowlearnfast/.venv/lib/python3.12/site-packages/torchvision/models/_utils.py:223: UserWarning: Arguments other than a weight enum or `None` for 'weights' are deprecated since 0.13 and may be removed in the future. The current behavior is equivalent to passing `weights=None`.\n",
      "  warnings.warn(msg)\n"
     ]
    }
   ],
   "execution_count": 3
  },
  {
   "metadata": {
    "ExecuteTime": {
     "end_time": "2025-02-18T13:56:36.259492Z",
     "start_time": "2025-02-18T13:47:58.642999Z"
    }
   },
   "cell_type": "code",
   "source": [
    "# Training loop\n",
    "num_epochs = 1\n",
    "for epoch in range(num_epochs):\n",
    "    model.train()\n",
    "    running_loss = 0.0\n",
    "\n",
    "    for i, (images, labels) in enumerate(train_loader):\n",
    "        images, labels = images.to(device), labels.to(device)\n",
    "\n",
    "        # Forward pass\n",
    "        outputs = model(images)\n",
    "        loss = criterion(outputs, labels)\n",
    "\n",
    "        # Backward pass and optimize\n",
    "        optimizer.zero_grad()\n",
    "        loss.backward()\n",
    "        optimizer.step()\n",
    "\n",
    "        running_loss += loss.item()\n",
    "\n",
    "        if (i + 1) % 100 == 0:\n",
    "            print(f'Epoch [{epoch+1}/{num_epochs}], Step [{i+1}/{len(train_loader)}], Loss: {running_loss/100:.4f}')\n",
    "            running_loss = 0.0"
   ],
   "id": "bea75d29b208befb",
   "outputs": [
    {
     "name": "stdout",
     "output_type": "stream",
     "text": [
      "Epoch [1/1], Step [100/938], Loss: 0.3198\n",
      "Epoch [1/1], Step [200/938], Loss: 0.1672\n",
      "Epoch [1/1], Step [300/938], Loss: 0.1292\n",
      "Epoch [1/1], Step [400/938], Loss: 0.1161\n",
      "Epoch [1/1], Step [500/938], Loss: 0.1036\n",
      "Epoch [1/1], Step [600/938], Loss: 0.0853\n",
      "Epoch [1/1], Step [700/938], Loss: 0.0894\n",
      "Epoch [1/1], Step [800/938], Loss: 0.0777\n",
      "Epoch [1/1], Step [900/938], Loss: 0.0812\n"
     ]
    }
   ],
   "execution_count": 4
  },
  {
   "metadata": {
    "ExecuteTime": {
     "end_time": "2025-02-18T14:28:28.397795Z",
     "start_time": "2025-02-18T14:27:43.354862Z"
    }
   },
   "cell_type": "code",
   "source": [
    "# Validation\n",
    "model.eval()\n",
    "correct = 0\n",
    "total = 0\n",
    "with torch.no_grad():\n",
    "    for images, labels in test_loader:\n",
    "        images, labels = images.to(device), labels.to(device)\n",
    "        outputs = model(images)\n",
    "        _, predicted = torch.max(outputs.data, 1)\n",
    "        total += labels.size(0)\n",
    "        correct += (predicted == labels).sum().item()\n",
    "\n",
    "print(f'Accuracy: {100 * correct / total:.2f}%')"
   ],
   "id": "2f5141421993b936",
   "outputs": [
    {
     "name": "stdout",
     "output_type": "stream",
     "text": [
      "Accuracy: 98.60%\n"
     ]
    }
   ],
   "execution_count": 5
  },
  {
   "metadata": {
    "ExecuteTime": {
     "end_time": "2025-02-19T13:55:43.239818Z",
     "start_time": "2025-02-19T13:55:43.236616Z"
    }
   },
   "cell_type": "code",
   "source": [
    "def compute_gradient(xb, logits, yb):\n",
    "    log_probs = F.softmax(logits, dim=1)\n",
    "    loss = F.cross_entropy(log_probs, yb)\n",
    "    gradients = torch.autograd.grad(loss, xb, create_graph=True, retain_graph=True)[0]\n",
    "    return gradients\n",
    "\n",
    "\n",
    "def create_mask(xb):\n",
    "    \"\"\"\n",
    "    Creates a mask that has 1/4th of the pixels in the top right corner of the image set\n",
    "    to 1\n",
    "    \"\"\"\n",
    "    mask = torch.zeros_like(xb)\n",
    "    _, _, H, W = xb.shape\n",
    "    size = H // 4\n",
    "    mask[:, :, 0:size, 0:size] = 1\n",
    "    return mask"
   ],
   "id": "1474daeff0f559fc",
   "outputs": [],
   "execution_count": 4
  },
  {
   "metadata": {
    "ExecuteTime": {
     "end_time": "2025-02-19T13:55:44.589524Z",
     "start_time": "2025-02-19T13:55:44.203622Z"
    }
   },
   "cell_type": "code",
   "source": [
    "xb, yb = next(iter(test_loader))\n",
    "xb.requires_grad = True\n",
    "outputs = model(xb)\n",
    "gradients = compute_gradient(xb, outputs, yb).squeeze(1).detach().numpy()\n",
    "gradients.shape"
   ],
   "id": "baf62c01be696340",
   "outputs": [
    {
     "data": {
      "text/plain": [
       "(64, 32, 32)"
      ]
     },
     "execution_count": 5,
     "metadata": {},
     "output_type": "execute_result"
    }
   ],
   "execution_count": 5
  },
  {
   "metadata": {
    "ExecuteTime": {
     "end_time": "2025-02-19T13:55:45.717889Z",
     "start_time": "2025-02-19T13:55:45.714988Z"
    }
   },
   "cell_type": "code",
   "source": "masks = create_mask(xb)",
   "id": "df7602c9e3d73d0b",
   "outputs": [],
   "execution_count": 6
  },
  {
   "metadata": {
    "ExecuteTime": {
     "end_time": "2025-02-19T13:55:46.950287Z",
     "start_time": "2025-02-19T13:55:46.861719Z"
    }
   },
   "cell_type": "code",
   "source": [
    "idx = 0\n",
    "\n",
    "ax = plt.subplot(131)\n",
    "ax.imshow(xb[idx].squeeze(0).detach().numpy(), cmap='gray')\n",
    "ax.axis('off')\n",
    "ax.set_title('Image')\n",
    "\n",
    "ax = plt.subplot(132)\n",
    "ax.imshow(np.abs(gradients[idx]), cmap='gray')\n",
    "ax.axis('off')\n",
    "ax.set_title('Gradient')\n",
    "\n",
    "ax = plt.subplot(133)\n",
    "ax.imshow(masks[idx].squeeze(0).detach().numpy(), cmap='gray')\n",
    "ax.set_title('Mask')\n",
    "plt.show()"
   ],
   "id": "e0147a5e21ef5441",
   "outputs": [
    {
     "data": {
      "text/plain": [
       "<Figure size 640x480 with 3 Axes>"
      ],
      "image/png": "[encoded data removed]"
     },
     "metadata": {},
     "output_type": "display_data"
    }
   ],
   "execution_count": 7
  },
  {
   "metadata": {
    "ExecuteTime": {
     "end_time": "2025-02-19T13:55:50.091806Z",
     "start_time": "2025-02-19T13:55:49.925291Z"
    }
   },
   "cell_type": "code",
   "source": [
    "model = resnet18(pretrained=False)\n",
    "# Modify first layer to accept single channel\n",
    "model.conv1 = nn.Conv2d(1, 64, kernel_size=7, stride=2, padding=3, bias=False)\n",
    "# Modify final layer to output 10 classes\n",
    "model.fc = nn.Linear(model.fc.in_features, 10)\n",
    "model = model.to(device)\n",
    "\n",
    "# Loss function and optimizer\n",
    "criterion = RRRLoss(lambda1=100_000.0)\n",
    "optimizer = optim.Adam(model.parameters(), lr=0.001)"
   ],
   "id": "547e30cb8292c31c",
   "outputs": [],
   "execution_count": 8
  },
  {
   "metadata": {
    "ExecuteTime": {
     "end_time": "2025-02-19T13:56:48.093481Z",
     "start_time": "2025-02-19T13:56:47.767032Z"
    }
   },
   "cell_type": "code",
   "source": [
    "images, labels = next(iter(train_loader))\n",
    "images.requires_grad = True\n",
    "outputs = model(images)\n",
    "masks = create_mask(images)\n",
    "masks = ~masks.to(dtype=torch.bool)\n",
    "loss, losses = criterion(outputs, labels, images, masks)\n",
    "losses"
   ],
   "id": "337ac3f37e31323a",
   "outputs": [
    {
     "data": {
      "text/plain": [
       "{'total_loss': 2.506136417388916,\n",
       " 'ce_loss': 2.506136417388916,\n",
       " 'gradient_loss': 3.9017555283115905e-18}"
      ]
     },
     "execution_count": 10,
     "metadata": {},
     "output_type": "execute_result"
    }
   ],
   "execution_count": 10
  },
  {
   "metadata": {
    "ExecuteTime": {
     "end_time": "2025-02-18T15:53:04.600757Z",
     "start_time": "2025-02-18T15:36:39.185253Z"
    }
   },
   "cell_type": "code",
   "source": [
    "num_epochs = 1\n",
    "for epoch in range(num_epochs):\n",
    "    model.train()\n",
    "    running_loss = 0.0\n",
    "\n",
    "    for i, (images, labels) in enumerate(train_loader):\n",
    "        images, labels = images.to(device), labels.to(device)\n",
    "        images.requires_grad = True\n",
    "        # Forward pass\n",
    "        outputs = model(images)\n",
    "        masks = create_mask(images)\n",
    "        masks = ~masks.to(dtype=torch.bool)\n",
    "        loss, _ = criterion(outputs, labels, images, masks)\n",
    "\n",
    "        # Backward pass and optimize\n",
    "        optimizer.zero_grad()\n",
    "        loss.backward()\n",
    "        optimizer.step()\n",
    "\n",
    "        running_loss += loss.item()\n",
    "\n",
    "        if (i + 1) % 100 == 0:\n",
    "            print(f'Epoch [{epoch+1}/{num_epochs}], Step [{i+1}/{len(train_loader)}], Loss: {running_loss/100:.4f}')\n",
    "            running_loss = 0.0"
   ],
   "id": "9e61edb5aa61f2d2",
   "outputs": [
    {
     "name": "stdout",
     "output_type": "stream",
     "text": [
      "Epoch [1/1], Step [100/938], Loss: 0.0763\n",
      "Epoch [1/1], Step [200/938], Loss: 0.0748\n",
      "Epoch [1/1], Step [300/938], Loss: 0.0699\n",
      "Epoch [1/1], Step [400/938], Loss: 0.0716\n",
      "Epoch [1/1], Step [500/938], Loss: 0.0616\n",
      "Epoch [1/1], Step [600/938], Loss: 0.0660\n",
      "Epoch [1/1], Step [700/938], Loss: 0.0616\n",
      "Epoch [1/1], Step [800/938], Loss: 0.0554\n",
      "Epoch [1/1], Step [900/938], Loss: 0.0458\n"
     ]
    }
   ],
   "execution_count": 12
  },
  {
   "metadata": {
    "ExecuteTime": {
     "end_time": "2025-02-18T15:54:01.556382Z",
     "start_time": "2025-02-18T15:53:12.639674Z"
    }
   },
   "cell_type": "code",
   "source": [
    "# Validation\n",
    "model.eval()\n",
    "correct = 0\n",
    "total = 0\n",
    "with torch.no_grad():\n",
    "    for images, labels in test_loader:\n",
    "        images, labels = images.to(device), labels.to(device)\n",
    "        outputs = model(images)\n",
    "        _, predicted = torch.max(outputs.data, 1)\n",
    "        total += labels.size(0)\n",
    "        correct += (predicted == labels).sum().item()\n",
    "\n",
    "print(f'Accuracy: {100 * correct / total:.2f}%')"
   ],
   "id": "6a9518619a21b389",
   "outputs": [
    {
     "name": "stdout",
     "output_type": "stream",
     "text": [
      "Accuracy: 98.62%\n"
     ]
    }
   ],
   "execution_count": 13
  },
  {
   "metadata": {
    "ExecuteTime": {
     "end_time": "2025-02-18T15:54:31.713978Z",
     "start_time": "2025-02-18T15:54:31.259062Z"
    }
   },
   "cell_type": "code",
   "source": [
    "xb, yb = next(iter(test_loader))\n",
    "xb.requires_grad = True\n",
    "outputs = model(xb)\n",
    "gradients = compute_gradient(xb, outputs, yb).squeeze(1).detach().numpy()\n",
    "gradients.shape"
   ],
   "id": "52a42c2d0465a4fe",
   "outputs": [
    {
     "data": {
      "text/plain": [
       "(64, 32, 32)"
      ]
     },
     "execution_count": 14,
     "metadata": {},
     "output_type": "execute_result"
    }
   ],
   "execution_count": 14
  },
  {
   "metadata": {
    "ExecuteTime": {
     "end_time": "2025-02-18T15:54:33.261638Z",
     "start_time": "2025-02-18T15:54:33.142056Z"
    }
   },
   "cell_type": "code",
   "source": [
    "idx = 0\n",
    "\n",
    "ax = plt.subplot(131)\n",
    "ax.imshow(xb[idx].squeeze(0).detach().numpy(), cmap='gray')\n",
    "ax.axis('off')\n",
    "ax.set_title('Image')\n",
    "\n",
    "ax = plt.subplot(132)\n",
    "ax.imshow(np.abs(gradients[idx]), cmap='gray')\n",
    "ax.axis('off')\n",
    "ax.set_title('Gradient')\n",
    "\n",
    "ax = plt.subplot(133)\n",
    "ax.imshow(masks[idx].to(dtype=torch.bool).squeeze(0).detach().numpy(), cmap='gray')\n",
    "ax.set_title('Mask')\n",
    "plt.show()"
   ],
   "id": "fc642a10f2d8220e",
   "outputs": [
    {
     "data": {
      "text/plain": [
       "<Figure size 640x480 with 3 Axes>"
      ],
      "image/png": "[encoded data removed]"
     },
     "metadata": {},
     "output_type": "display_data"
    }
   ],
   "execution_count": 15
  }
 ],
 "metadata": {
  "kernelspec": {
   "name": "python3",
   "language": "python",
   "display_name": "Python 3 (ipykernel)"
  }
 },
 "nbformat": 5,
 "nbformat_minor": 9
}
