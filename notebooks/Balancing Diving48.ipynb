{
 "cells": [
  {
   "cell_type": "code",
   "id": "initial_id",
   "metadata": {
    "collapsed": true,
    "ExecuteTime": {
     "end_time": "2025-03-12T15:30:39.658180Z",
     "start_time": "2025-03-12T15:30:39.637515Z"
    }
   },
   "source": [
    "%load_ext autoreload\n",
    "%autoreload 2\n",
    "\n",
    "import diveslowlearnfast as dlf\n",
    "import numpy as np\n",
    "\n",
    "from diveslowlearnfast.datasets import Diving48Dataset\n",
    "from diveslowlearnfast.datasets.diving48 import extend_under_represented_classes\n",
    "from diveslowlearnfast.config import Config\n",
    "\n",
    "cfg = Config()\n",
    "cfg.DATA.DATASET_PATH = '/Users/youritomassen/Projects/xai/data/Diving48/'\n",
    "cfg.DATA.NUM_FRAMES = 4"
   ],
   "outputs": [
    {
     "name": "stdout",
     "output_type": "stream",
     "text": [
      "The autoreload extension is already loaded. To reload it, use:\n",
      "  %reload_ext autoreload\n"
     ]
    }
   ],
   "execution_count": 47
  },
  {
   "metadata": {
    "ExecuteTime": {
     "end_time": "2025-03-12T15:03:12.794607Z",
     "start_time": "2025-03-12T15:03:12.764751Z"
    }
   },
   "cell_type": "code",
   "source": [
    "diving48 = Diving48Dataset(\n",
    "    cfg.DATA.DATASET_PATH,\n",
    "    cfg.DATA.NUM_FRAMES,\n",
    "    cfg.SLOWFAST.ALPHA,\n",
    "    transform_fn=dlf.get_test_transform(cfg)\n",
    ")"
   ],
   "id": "27ebacdbfe4f039b",
   "outputs": [],
   "execution_count": 3
  },
  {
   "metadata": {
    "ExecuteTime": {
     "end_time": "2025-03-12T15:04:14.293210Z",
     "start_time": "2025-03-12T15:04:14.201632Z"
    }
   },
   "cell_type": "code",
   "source": [
    "idx = 0\n",
    "x, y, *_ = diving48[idx]\n",
    "\n",
    "x.shape, diving48.get_label(y)"
   ],
   "id": "53a5dd5cc83ce41f",
   "outputs": [
    {
     "data": {
      "text/plain": [
       "(torch.Size([3, 4, 256, 256]), ['Back', '15som', '05Twis', 'FREE'])"
      ]
     },
     "execution_count": 8,
     "metadata": {},
     "output_type": "execute_result"
    }
   ],
   "execution_count": 8
  },
  {
   "metadata": {
    "ExecuteTime": {
     "end_time": "2025-03-12T15:11:44.770964Z",
     "start_time": "2025-03-12T15:11:44.750351Z"
    }
   },
   "cell_type": "code",
   "source": [
    "data = diving48.data\n",
    "\n",
    "labels = np.array(list(map(lambda x: x['label'], data)))\n",
    "\n",
    "unique, counts = np.unique(labels, return_counts=True)\n",
    "idx = np.argmax(counts)\n",
    "max_count = counts[idx]\n",
    "unique[idx], max_count\n",
    "\n"
   ],
   "id": "b8843223783600c",
   "outputs": [
    {
     "data": {
      "text/plain": [
       "(26, 1053)"
      ]
     },
     "execution_count": 20,
     "metadata": {},
     "output_type": "execute_result"
    }
   ],
   "execution_count": 20
  },
  {
   "metadata": {
    "ExecuteTime": {
     "end_time": "2025-03-12T15:20:59.251797Z",
     "start_time": "2025-03-12T15:20:59.232847Z"
    }
   },
   "cell_type": "code",
   "source": [
    "new_data = []\n",
    "start = 0\n",
    "for count in counts:\n",
    "    print(start)\n",
    "    if count >= max_count:\n",
    "        new_data.extend(data[start:count])\n",
    "        start += count\n",
    "        continue\n",
    "    # print(max_count // count)\n",
    "    a = data[start:start+count] * (max_count // count)\n",
    "    new_data.extend(a)\n",
    "\n",
    "    start += count"
   ],
   "id": "49d36a274776c908",
   "outputs": [
    {
     "name": "stdout",
     "output_type": "stream",
     "text": [
      "0\n",
      "222\n",
      "331\n",
      "380\n",
      "639\n",
      "672\n",
      "1139\n",
      "1299\n",
      "2200\n",
      "2624\n",
      "2836\n",
      "2910\n",
      "3054\n",
      "3475\n",
      "3519\n",
      "3621\n",
      "4212\n",
      "4260\n",
      "4609\n",
      "4677\n",
      "5281\n",
      "5429\n",
      "6118\n",
      "6473\n",
      "6530\n",
      "7014\n",
      "7060\n",
      "8113\n",
      "8363\n",
      "8689\n",
      "8920\n",
      "9603\n",
      "9664\n",
      "10232\n",
      "10803\n",
      "11795\n",
      "12141\n",
      "12210\n",
      "12301\n",
      "12346\n",
      "12394\n",
      "12554\n",
      "12684\n",
      "13090\n",
      "13608\n",
      "14167\n",
      "14983\n"
     ]
    }
   ],
   "execution_count": 38
  },
  {
   "metadata": {
    "ExecuteTime": {
     "end_time": "2025-03-12T15:21:03.235508Z",
     "start_time": "2025-03-12T15:21:03.216207Z"
    }
   },
   "cell_type": "code",
   "source": "len(data), len(new_data)",
   "id": "2bd6cc17210972b1",
   "outputs": [
    {
     "data": {
      "text/plain": [
       "(15027, 42182)"
      ]
     },
     "execution_count": 39,
     "metadata": {},
     "output_type": "execute_result"
    }
   ],
   "execution_count": 39
  },
  {
   "metadata": {
    "ExecuteTime": {
     "end_time": "2025-03-12T15:21:44.899018Z",
     "start_time": "2025-03-12T15:21:44.876085Z"
    }
   },
   "cell_type": "code",
   "source": [
    "labels = np.array(list(map(lambda x: x['label'], new_data)))\n",
    "unique, counts = np.unique(labels, return_counts=True)\n",
    "\n",
    "counts[:5]"
   ],
   "id": "1ceb23c8350f974a",
   "outputs": [
    {
     "data": {
      "text/plain": [
       "array([ 888,  981, 1029, 1036, 1023])"
      ]
     },
     "execution_count": 40,
     "metadata": {},
     "output_type": "execute_result"
    }
   ],
   "execution_count": 40
  },
  {
   "metadata": {
    "ExecuteTime": {
     "end_time": "2025-03-12T15:26:21.126869Z",
     "start_time": "2025-03-12T15:26:21.105026Z"
    }
   },
   "cell_type": "code",
   "source": [
    "new_data = extend_under_represented_classes(diving48.data)\n",
    "labels = np.array(list(map(lambda x: x['label'], new_data)))\n",
    "unique, counts = np.unique(labels, return_counts=True)\n",
    "\n",
    "counts[:5]"
   ],
   "id": "980a45ba80c6a64c",
   "outputs": [
    {
     "data": {
      "text/plain": [
       "array([ 888,  981, 1029, 1036, 1023])"
      ]
     },
     "execution_count": 45,
     "metadata": {},
     "output_type": "execute_result"
    }
   ],
   "execution_count": 45
  },
  {
   "metadata": {
    "ExecuteTime": {
     "end_time": "2025-03-12T15:31:46.445105Z",
     "start_time": "2025-03-12T15:31:46.414585Z"
    }
   },
   "cell_type": "code",
   "source": [
    "cfg.DATA.EXTEND_CLASSES = True\n",
    "diving48 = Diving48Dataset(\n",
    "    cfg.DATA.DATASET_PATH,\n",
    "    cfg.DATA.NUM_FRAMES,\n",
    "    cfg.SLOWFAST.ALPHA,\n",
    "    extend_classes=cfg.DATA.EXTEND_CLASSES,\n",
    "    transform_fn=dlf.get_test_transform(cfg)\n",
    ")\n",
    "\n",
    "len(diving48.data)"
   ],
   "id": "a66036f05d0c039a",
   "outputs": [
    {
     "data": {
      "text/plain": [
       "43235"
      ]
     },
     "execution_count": 52,
     "metadata": {},
     "output_type": "execute_result"
    }
   ],
   "execution_count": 52
  }
 ],
 "metadata": {
  "kernelspec": {
   "display_name": "Python 3",
   "language": "python",
   "name": "python3"
  },
  "language_info": {
   "codemirror_mode": {
    "name": "ipython",
    "version": 2
   },
   "file_extension": ".py",
   "mimetype": "text/x-python",
   "name": "python",
   "nbconvert_exporter": "python",
   "pygments_lexer": "ipython2",
   "version": "2.7.6"
  }
 },
 "nbformat": 4,
 "nbformat_minor": 5
}
