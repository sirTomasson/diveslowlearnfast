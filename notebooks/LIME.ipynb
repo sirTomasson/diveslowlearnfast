{
 "cells": [
  {
   "metadata": {},
   "cell_type": "markdown",
   "source": "# This tutorial shows of the usage of the `LimeVideoExplainer` from the lime github package\n",
   "id": "4f0297a7879150b5"
  },
  {
   "metadata": {},
   "cell_type": "code",
   "outputs": [],
   "execution_count": null,
   "source": "# see https://github.com/sirTomasson/lime/blob/master/doc/notebooks/Tutorial%20-%20videos%20-%20Pytorch.ipynb",
   "id": "e8f2610edac14211"
  }
 ],
 "metadata": {
  "kernelspec": {
   "display_name": "Python 3",
   "language": "python",
   "name": "python3"
  },
  "language_info": {
   "codemirror_mode": {
    "name": "ipython",
    "version": 2
   },
   "file_extension": ".py",
   "mimetype": "text/x-python",
   "name": "python",
   "nbconvert_exporter": "python",
   "pygments_lexer": "ipython2",
   "version": "2.7.6"
  }
 },
 "nbformat": 4,
 "nbformat_minor": 5
}
