{
 "cells": [
  {
   "metadata": {},
   "cell_type": "markdown",
   "source": "# EGL Train Epoch Tests\n",
   "id": "262adfccd8aa2bab"
  },
  {
   "metadata": {},
   "cell_type": "markdown",
   "source": "## Imports",
   "id": "2067d3c085bf9131"
  },
  {
   "metadata": {
    "ExecuteTime": {
     "end_time": "2025-05-06T11:41:11.851050Z",
     "start_time": "2025-05-06T11:41:07.741484Z"
    }
   },
   "cell_type": "code",
   "source": [
    "%load_ext autoreload\n",
    "%autoreload 2\n",
    "\n",
    "import os\n",
    "import torch\n",
    "import random\n",
    "\n",
    "import torch.nn as nn\n",
    "import numpy as np\n",
    "import diveslowlearnfast as dlf\n",
    "import matplotlib.pyplot as plt\n",
    "\n",
    "from diveslowlearnfast.config import Config\n",
    "from diveslowlearnfast.datasets import Diving48Dataset\n",
    "from diveslowlearnfast.train import helper as train_helper\n",
    "from diveslowlearnfast import load_checkpoint\n",
    "from diveslowlearnfast.train.helper import get_train_transform, get_test_transform, get_mask_transform, get_base_transform\n",
    "from diveslowlearnfast.models import SlowFast\n",
    "from diveslowlearnfast.egl import ExplainerStrategy\n",
    "from diveslowlearnfast.egl.run_train_epoch import get_loss_params, get_mask_indices\n",
    "from diveslowlearnfast.loss.rrr import DualPathRRRLossV2\n",
    "from diveslowlearnfast.loss.dice import DiceLoss\n",
    "\n",
    "\n",
    "cfg = Config()\n",
    "cfg.DATA.DATASET_PATH = '/Users/youritomassen/Projects/xai/data/Diving48/'\n",
    "cfg.TRAIN.BATCH_SIZE = 2\n",
    "cfg.DATA.TEST_CROP_SIZE = 224\n",
    "\n",
    "device = torch.device('cpu')\n",
    "model = SlowFast(cfg)\n",
    "_, optimiser, *_ = train_helper.get_train_objects(cfg, model)\n",
    "model, *_ = load_checkpoint(model, '../misc/checkpoint.pth', optimiser, device)\n",
    "\n",
    "explainer = ExplainerStrategy.get_explainer(model, cfg, device)"
   ],
   "id": "43191691464b70b",
   "outputs": [
    {
     "name": "stdout",
     "output_type": "stream",
     "text": [
      "\n"
     ]
    }
   ],
   "execution_count": 1
  },
  {
   "metadata": {},
   "cell_type": "markdown",
   "source": [
    "## Masks Cache\n",
    "Evaluate the masks cache functionality.\n",
    "\n",
    "1. First construct a dataloader with the right parameters.\n",
    "2. Then forward the data through the model.\n",
    "3. Lastly apply the loss function to the params."
   ],
   "id": "34315be3faba2df6"
  },
  {
   "metadata": {
    "ExecuteTime": {
     "end_time": "2025-05-06T11:41:12.342960Z",
     "start_time": "2025-05-06T11:41:11.946528Z"
    }
   },
   "cell_type": "code",
   "source": [
    "vidnames = ['3PLiUG_DuC8_00208', '5i1begTTucc_00043', 'cYkUl8MrXgA_00252']\n",
    "dataset = Diving48Dataset(\n",
    "    cfg.DATA.DATASET_PATH,\n",
    "    cfg.DATA.NUM_FRAMES,\n",
    "    cfg.SLOWFAST.ALPHA,\n",
    "    transform_fn=get_test_transform(cfg),\n",
    "    video_ids=vidnames,\n",
    "    loader_mode='mp4',\n",
    "    mask_type='cache',\n",
    "    masks_cache_dir='.masks'\n",
    ")\n",
    "\n",
    "loader = torch.utils.data.DataLoader(\n",
    "    dataset,\n",
    "    batch_size=cfg.TRAIN.BATCH_SIZE,\n",
    "    shuffle=False,\n",
    "    num_workers=2\n",
    ")"
   ],
   "id": "c6cddb616c41de16",
   "outputs": [],
   "execution_count": 2
  },
  {
   "metadata": {
    "ExecuteTime": {
     "end_time": "2025-05-06T11:41:13.231798Z",
     "start_time": "2025-05-06T11:41:12.991510Z"
    }
   },
   "cell_type": "code",
   "source": [
    "x, y, _, _, _, masks = dataset[0]\n",
    "assert masks is not None\n",
    "assert len(masks) == 2"
   ],
   "id": "33919470e7280e52",
   "outputs": [],
   "execution_count": 3
  },
  {
   "metadata": {
    "ExecuteTime": {
     "end_time": "2025-05-06T11:41:27.624347Z",
     "start_time": "2025-05-06T11:41:13.845805Z"
    }
   },
   "cell_type": "code",
   "source": [
    "xb, yb, _, masks = dlf.get_batch(iter(loader), device)\n",
    "masks[0].shape, masks[1].shape"
   ],
   "id": "77a761029cd28910",
   "outputs": [
    {
     "data": {
      "text/plain": [
       "(torch.Size([2, 1, 4, 224, 224]), torch.Size([2, 1, 32, 224, 224]))"
      ]
     },
     "execution_count": 4,
     "metadata": {},
     "output_type": "execute_result"
    }
   ],
   "execution_count": 4
  },
  {
   "metadata": {
    "ExecuteTime": {
     "end_time": "2025-05-06T11:41:31.160027Z",
     "start_time": "2025-05-06T11:41:28.212091Z"
    }
   },
   "cell_type": "code",
   "source": [
    "cfg.EGL.METHOD = 'cache'\n",
    "cfg.EGL.LOSS_FUNC = 'rrr_v2'\n",
    "cfg.GRADCAM.TARGET_LAYERS = ['s5/pathway0_res2', 's5/pathway1_res2']\n",
    "loss_fn = DualPathRRRLossV2()\n",
    "exp = ExplainerStrategy.get_explainer(model, cfg, device)\n",
    "inputs = dlf.to_slowfast_inputs(xb, cfg.SLOWFAST.ALPHA, requires_grad=True)\n",
    "maps, logits = exp(inputs)\n",
    "loss_params = get_loss_params(cfg, maps, inputs, yb, logits, masks=masks)\n",
    "loss, losses = loss_fn(**loss_params)\n",
    "loss, losses"
   ],
   "id": "20ca62f7f3c385ea",
   "outputs": [
    {
     "name": "stdout",
     "output_type": "stream",
     "text": [
      "hi m0m\n",
      "torch.Size([2, 1, 4, 224, 224]) torch.Size([2, 3, 4, 224, 224])\n",
      "torch.Size([2, 1, 32, 224, 224]) torch.Size([2, 3, 32, 224, 224])\n"
     ]
    },
    {
     "data": {
      "text/plain": [
       "(tensor(3.1905, grad_fn=<AddBackward0>),\n",
       " {'ce_loss': 3.1726107597351074,\n",
       "  'gradient_loss_path_0': 0.01279267854988575,\n",
       "  'gradient_loss_path_1': 0.005137650761753321,\n",
       "  'total_loss': 3.1905410289764404})"
      ]
     },
     "execution_count": 5,
     "metadata": {},
     "output_type": "execute_result"
    }
   ],
   "execution_count": 5
  },
  {
   "metadata": {},
   "cell_type": "markdown",
   "source": "## GradCAM Masks",
   "id": "234a2916c41dd33"
  },
  {
   "metadata": {
    "ExecuteTime": {
     "end_time": "2025-05-06T11:44:20.292901Z",
     "start_time": "2025-05-06T11:44:19.926955Z"
    }
   },
   "cell_type": "code",
   "source": [
    "dataset = Diving48Dataset(\n",
    "    cfg.DATA.DATASET_PATH,\n",
    "    cfg.DATA.NUM_FRAMES,\n",
    "    cfg.SLOWFAST.ALPHA,\n",
    "    transform_fn=get_test_transform(cfg),\n",
    "    video_ids=vidnames,\n",
    "    loader_mode='mp4',\n",
    ")\n",
    "\n",
    "loader = torch.utils.data.DataLoader(\n",
    "    dataset,\n",
    "    batch_size=4,\n",
    "    shuffle=False,\n",
    "    num_workers=2\n",
    ")\n",
    "\n",
    "x, y, _, _, _, masks = dataset[0]\n",
    "assert masks is not None\n",
    "assert masks == False"
   ],
   "id": "fa1561a6015c953c",
   "outputs": [],
   "execution_count": 12
  },
  {
   "metadata": {
    "ExecuteTime": {
     "end_time": "2025-05-06T11:44:31.610066Z",
     "start_time": "2025-05-06T11:44:21.641883Z"
    }
   },
   "cell_type": "code",
   "source": "xb, yb, video_ids, *_ = dlf.get_batch(iter(loader), device)",
   "id": "63fa91aa386989e",
   "outputs": [],
   "execution_count": 13
  },
  {
   "metadata": {
    "ExecuteTime": {
     "end_time": "2025-05-06T11:44:41.454254Z",
     "start_time": "2025-05-06T11:44:36.122405Z"
    }
   },
   "cell_type": "code",
   "source": [
    "cfg.EGL.METHOD = 'gradcam'\n",
    "cfg.GRADCAM.TARGET_LAYERS = ['s5/pathway0_res2', 's5/pathway1_res2']\n",
    "loss_fn = DualPathRRRLossV2()\n",
    "inputs = dlf.to_slowfast_inputs(xb, cfg.SLOWFAST.ALPHA, requires_grad=True)\n",
    "exp = ExplainerStrategy.get_explainer(model, cfg, device)\n",
    "maps, logits = exp(inputs)\n",
    "indices = get_mask_indices(video_ids, {'3PLiUG_DuC8_00208'})\n",
    "loss_params = get_loss_params(cfg, maps, inputs, yb, logits, indices=indices)\n",
    "loss, losses = loss_fn(**loss_params)\n",
    "loss, losses"
   ],
   "id": "508b16a2784a43af",
   "outputs": [
    {
     "name": "stdout",
     "output_type": "stream",
     "text": [
      "('5i1begTTucc_00043', 'cYkUl8MrXgA_00252', '3PLiUG_DuC8_00208') [False False  True]\n"
     ]
    },
    {
     "data": {
      "text/plain": [
       "(tensor(4.1357, grad_fn=<AddBackward0>),\n",
       " {'ce_loss': 3.1364586353302,\n",
       "  'gradient_loss_path_0': 0.9957987666130066,\n",
       "  'gradient_loss_path_1': 0.0034821194130927324,\n",
       "  'total_loss': 4.135739803314209})"
      ]
     },
     "execution_count": 14,
     "metadata": {},
     "output_type": "execute_result"
    }
   ],
   "execution_count": 14
  },
  {
   "metadata": {},
   "cell_type": "markdown",
   "source": "## Segment Masks",
   "id": "d53bce720793fa55"
  },
  {
   "metadata": {
    "ExecuteTime": {
     "end_time": "2025-05-06T10:02:45.247016Z",
     "start_time": "2025-05-06T10:02:45.107469Z"
    }
   },
   "cell_type": "code",
   "source": [
    "vidnames = ['3qq031609lA_00002', 'iv0Gu1VXAgc_00167', 'aektxm8cLdo_00000']\n",
    "\n",
    "dataset = Diving48Dataset(\n",
    "    cfg.DATA.DATASET_PATH,\n",
    "    cfg.DATA.NUM_FRAMES,\n",
    "    cfg.SLOWFAST.ALPHA,\n",
    "    transform_fn=get_test_transform(cfg),\n",
    "    mask_transform_fn=get_mask_transform(cfg),\n",
    "    video_ids=vidnames,\n",
    "    loader_mode='jpg',\n",
    "    mask_type='segments'\n",
    ")\n",
    "\n",
    "loader = torch.utils.data.DataLoader(\n",
    "    dataset,\n",
    "    batch_size=cfg.TRAIN.BATCH_SIZE,\n",
    "    shuffle=False,\n",
    "    num_workers=2\n",
    ")\n",
    "\n",
    "x, y, _, _, _, masks = dataset[0]\n",
    "assert masks is not None\n",
    "masks.shape"
   ],
   "id": "abcb4a0cc711497e",
   "outputs": [
    {
     "data": {
      "text/plain": [
       "torch.Size([1, 32, 224, 224])"
      ]
     },
     "execution_count": 7,
     "metadata": {},
     "output_type": "execute_result"
    }
   ],
   "execution_count": 7
  },
  {
   "metadata": {
    "ExecuteTime": {
     "end_time": "2025-05-06T10:03:04.167411Z",
     "start_time": "2025-05-06T10:02:50.375840Z"
    }
   },
   "cell_type": "code",
   "source": "xb, yb, _, masks = dlf.get_batch(iter(loader), device)",
   "id": "446f94ce281a4c57",
   "outputs": [],
   "execution_count": 8
  },
  {
   "metadata": {
    "ExecuteTime": {
     "end_time": "2025-05-06T10:11:45.530043Z",
     "start_time": "2025-05-06T10:11:43.725239Z"
    }
   },
   "cell_type": "code",
   "source": [
    "cfg.EGL.METHOD = 'ogl'\n",
    "cfg.EGL.LOSS_FUNC = 'dice'\n",
    "cfg.GRADCAM.TARGET_LAYERS = ['s5/pathway0_res2', 's5/pathway1_res2']\n",
    "loss_fn = DiceLoss(nn.CrossEntropyLoss())\n",
    "inputs = dlf.to_slowfast_inputs(xb, cfg.SLOWFAST.ALPHA, requires_grad=True)\n",
    "exp = ExplainerStrategy.get_explainer(model, cfg, device)\n",
    "maps, logits = exp(inputs)\n",
    "loss_params = get_loss_params(cfg, maps, inputs, yb, logits, masks=masks)\n",
    "loss, losses = loss_fn(**loss_params)\n",
    "loss, losses"
   ],
   "id": "a69476e2887139b8",
   "outputs": [
    {
     "data": {
      "text/plain": [
       "(tensor(4.3445, grad_fn=<AddBackward0>),\n",
       " {'ce_loss': tensor(3.4035, grad_fn=<MulBackward0>),\n",
       "  'dice_loss': tensor(0.9411),\n",
       "  'total_loss': tensor(4.3445, grad_fn=<AddBackward0>)})"
      ]
     },
     "execution_count": 20,
     "metadata": {},
     "output_type": "execute_result"
    }
   ],
   "execution_count": 20
  },
  {
   "metadata": {
    "ExecuteTime": {
     "end_time": "2025-05-06T11:35:55.418545Z",
     "start_time": "2025-05-06T11:35:55.399803Z"
    }
   },
   "cell_type": "code",
   "source": [
    "video_ids = ['a', 'b', 'k']\n",
    "hard_video_ids = {'a', 'c', 'd', 'b'}\n",
    "\n",
    "indices = np.array([video_id in hard_video_ids for video_id in video_ids])\n",
    "\n",
    "indices"
   ],
   "id": "206c8af22673af7d",
   "outputs": [
    {
     "data": {
      "text/plain": [
       "array([ True,  True, False])"
      ]
     },
     "execution_count": 10,
     "metadata": {},
     "output_type": "execute_result"
    }
   ],
   "execution_count": 10
  }
 ],
 "metadata": {
  "kernelspec": {
   "display_name": "Python 3",
   "language": "python",
   "name": "python3"
  },
  "language_info": {
   "codemirror_mode": {
    "name": "ipython",
    "version": 2
   },
   "file_extension": ".py",
   "mimetype": "text/x-python",
   "name": "python",
   "nbconvert_exporter": "python",
   "pygments_lexer": "ipython2",
   "version": "2.7.6"
  }
 },
 "nbformat": 4,
 "nbformat_minor": 5
}
