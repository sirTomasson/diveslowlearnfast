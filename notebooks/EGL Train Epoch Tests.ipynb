{
 "cells": [
  {
   "metadata": {},
   "cell_type": "markdown",
   "source": "# EGL Train Epoch Tests\n",
   "id": "262adfccd8aa2bab"
  },
  {
   "metadata": {},
   "cell_type": "markdown",
   "source": "## Imports",
   "id": "2067d3c085bf9131"
  },
  {
   "metadata": {
    "ExecuteTime": {
     "end_time": "2025-05-07T09:28:20.139817Z",
     "start_time": "2025-05-07T09:28:15.597551Z"
    }
   },
   "cell_type": "code",
   "source": [
    "%load_ext autoreload\n",
    "%autoreload 2\n",
    "\n",
    "import os\n",
    "import torch\n",
    "import random\n",
    "\n",
    "import torch.nn as nn\n",
    "import numpy as np\n",
    "import diveslowlearnfast as dlf\n",
    "import matplotlib.pyplot as plt\n",
    "import torch.nn.functional as F\n",
    "\n",
    "from diveslowlearnfast.config import Config\n",
    "from diveslowlearnfast.datasets import Diving48Dataset\n",
    "from diveslowlearnfast.train import helper as train_helper\n",
    "from diveslowlearnfast import load_checkpoint\n",
    "from diveslowlearnfast.train.helper import get_train_transform, get_test_transform, get_mask_transform, get_base_transform\n",
    "from diveslowlearnfast.models import SlowFast\n",
    "from diveslowlearnfast.egl import ExplainerStrategy\n",
    "from diveslowlearnfast.egl.run_train_epoch import get_loss_params, get_mask_indices\n",
    "from diveslowlearnfast.loss.rrr import DualPathRRRLossV2\n",
    "from diveslowlearnfast.loss.dice import DiceLoss\n",
    "\n",
    "\n",
    "cfg = Config()\n",
    "cfg.DATA.DATASET_PATH = '/Users/youritomassen/Projects/xai/data/Diving48/'\n",
    "cfg.TRAIN.BATCH_SIZE = 2\n",
    "cfg.DATA.TEST_CROP_SIZE = 224\n",
    "\n",
    "device = torch.device('cpu')\n",
    "model = SlowFast(cfg)\n",
    "_, optimiser, *_ = train_helper.get_train_objects(cfg, model)\n",
    "model, *_ = load_checkpoint(model, '../misc/checkpoint.pth', optimiser, device)\n",
    "\n",
    "explainer = ExplainerStrategy.get_explainer(model, cfg, device)"
   ],
   "id": "43191691464b70b",
   "outputs": [
    {
     "name": "stdout",
     "output_type": "stream",
     "text": [
      "\n"
     ]
    }
   ],
   "execution_count": 1
  },
  {
   "metadata": {},
   "cell_type": "markdown",
   "source": [
    "## Masks Cache\n",
    "Evaluate the masks cache functionality.\n",
    "\n",
    "1. First construct a dataloader with the right parameters.\n",
    "2. Then forward the data through the model.\n",
    "3. Lastly apply the loss function to the params."
   ],
   "id": "34315be3faba2df6"
  },
  {
   "metadata": {
    "ExecuteTime": {
     "end_time": "2025-05-07T09:29:26.410898Z",
     "start_time": "2025-05-07T09:29:21.330867Z"
    }
   },
   "cell_type": "code",
   "source": [
    "vidnames = ['3PLiUG_DuC8_00208', '5i1begTTucc_00043', 'cYkUl8MrXgA_00252']\n",
    "dataset = Diving48Dataset(\n",
    "    cfg.DATA.DATASET_PATH,\n",
    "    cfg.DATA.NUM_FRAMES,\n",
    "    cfg.SLOWFAST.ALPHA,\n",
    "    transform_fn=get_test_transform(cfg),\n",
    "    video_ids=vidnames,\n",
    "    loader_mode='mp4',\n",
    "    mask_type='cache',\n",
    "    masks_cache_dir='.masks'\n",
    ")\n",
    "\n",
    "loader = torch.utils.data.DataLoader(\n",
    "    dataset,\n",
    "    batch_size=cfg.TRAIN.BATCH_SIZE,\n",
    "    shuffle=False,\n",
    "    num_workers=2\n",
    ")\n",
    "loader_iter = iter(loader)"
   ],
   "id": "5692920ee6214c44",
   "outputs": [],
   "execution_count": 5
  },
  {
   "metadata": {
    "ExecuteTime": {
     "end_time": "2025-05-07T09:29:28.615356Z",
     "start_time": "2025-05-07T09:29:28.333183Z"
    }
   },
   "cell_type": "code",
   "source": [
    "x, y, _, _, _, masks = dataset[0]\n",
    "assert masks is not None\n",
    "assert len(masks) == 2"
   ],
   "id": "9020fbf745d93afc",
   "outputs": [],
   "execution_count": 6
  },
  {
   "metadata": {
    "ExecuteTime": {
     "end_time": "2025-05-07T09:29:29.805590Z",
     "start_time": "2025-05-07T09:29:29.783918Z"
    }
   },
   "cell_type": "code",
   "source": [
    "xb, yb, _, masks = dlf.get_batch(loader_iter, device)\n",
    "masks[0].shape, masks[1].shape"
   ],
   "id": "cff9c91ab646d018",
   "outputs": [
    {
     "data": {
      "text/plain": [
       "(torch.Size([2, 1, 4, 224, 224]), torch.Size([2, 1, 32, 224, 224]))"
      ]
     },
     "execution_count": 7,
     "metadata": {},
     "output_type": "execute_result"
    }
   ],
   "execution_count": 7
  },
  {
   "metadata": {
    "ExecuteTime": {
     "end_time": "2025-05-07T09:29:35.717883Z",
     "start_time": "2025-05-07T09:29:31.728539Z"
    }
   },
   "cell_type": "code",
   "source": [
    "cfg.EGL.METHOD = 'cache'\n",
    "cfg.EGL.LOSS_FUNC = 'rrr_v2'\n",
    "cfg.GRADCAM.TARGET_LAYERS = ['s5/pathway0_res2', 's5/pathway1_res2']\n",
    "loss_fn = DualPathRRRLossV2()\n",
    "exp = ExplainerStrategy.get_explainer(model, cfg, device)\n",
    "inputs = dlf.to_slowfast_inputs(xb, cfg.SLOWFAST.ALPHA, requires_grad=True)\n",
    "maps, logits = exp(inputs)\n",
    "loss_params = get_loss_params(cfg, maps, inputs, yb, logits, masks=masks)\n",
    "\n",
    "loss, losses = loss_fn(**loss_params)\n",
    "loss, losses, F.cross_entropy(logits, yb)"
   ],
   "id": "41f03687193146f2",
   "outputs": [
    {
     "data": {
      "text/plain": [
       "(tensor(13345.9863, grad_fn=<AddBackward0>),\n",
       " {'ce_loss': 1.953347086906433,\n",
       "  'gradient_loss_path_0': 7500.419921875,\n",
       "  'gradient_loss_path_1': 5843.61376953125,\n",
       "  'total_loss': 13345.986328125},\n",
       " tensor(1.9533, grad_fn=<NllLossBackward0>))"
      ]
     },
     "execution_count": 8,
     "metadata": {},
     "output_type": "execute_result"
    }
   ],
   "execution_count": 8
  },
  {
   "metadata": {},
   "cell_type": "markdown",
   "source": "## GradCAM Masks",
   "id": "234a2916c41dd33"
  },
  {
   "metadata": {
    "ExecuteTime": {
     "end_time": "2025-05-07T09:29:52.688770Z",
     "start_time": "2025-05-07T09:29:42.293950Z"
    }
   },
   "cell_type": "code",
   "source": [
    "dataset = Diving48Dataset(\n",
    "    cfg.DATA.DATASET_PATH,\n",
    "    cfg.DATA.NUM_FRAMES,\n",
    "    cfg.SLOWFAST.ALPHA,\n",
    "    transform_fn=get_test_transform(cfg),\n",
    "    video_ids=vidnames,\n",
    "    loader_mode='mp4',\n",
    ")\n",
    "\n",
    "loader = torch.utils.data.DataLoader(\n",
    "    dataset,\n",
    "    batch_size=4,\n",
    "    shuffle=False,\n",
    "    num_workers=2\n",
    ")\n",
    "\n",
    "\n",
    "loader_iter = iter(loader)\n",
    "\n",
    "x, y, _, _, _, masks = dataset[0]\n",
    "assert masks is not None\n",
    "assert masks == False"
   ],
   "id": "d41bcd284a17d5ce",
   "outputs": [],
   "execution_count": 9
  },
  {
   "metadata": {
    "ExecuteTime": {
     "end_time": "2025-05-07T09:29:54.425801Z",
     "start_time": "2025-05-07T09:29:54.398943Z"
    }
   },
   "cell_type": "code",
   "source": "xb, yb, video_ids, *_ = dlf.get_batch(loader_iter, device)",
   "id": "fb3f6539f1c6e20d",
   "outputs": [],
   "execution_count": 10
  },
  {
   "metadata": {
    "ExecuteTime": {
     "end_time": "2025-05-07T09:30:03.418933Z",
     "start_time": "2025-05-07T09:29:56.435108Z"
    }
   },
   "cell_type": "code",
   "source": [
    "cfg.EGL.METHOD = 'gradcam'\n",
    "cfg.EGL.LOSS_FUNC = 'rrr_v2'\n",
    "cfg.GRADCAM.TARGET_LAYERS = ['s5/pathway0_res2', 's5/pathway1_res2']\n",
    "\n",
    "loss_fn = DualPathRRRLossV2([0.01, 0.01])\n",
    "inputs = dlf.to_slowfast_inputs(xb, cfg.SLOWFAST.ALPHA, requires_grad=True)\n",
    "exp = ExplainerStrategy.get_explainer(model, cfg, device)\n",
    "maps, logits = exp(inputs)\n",
    "loss_params = get_loss_params(cfg, maps, inputs, yb, logits,\n",
    "                              hard_video_ids={'5i1begTTucc_00043'},\n",
    "                              video_ids=video_ids)\n",
    "loss, losses = loss_fn(**loss_params)\n",
    "loss, losses, F.cross_entropy(logits, yb)"
   ],
   "id": "f3a197b84b2b8f44",
   "outputs": [
    {
     "name": "stdout",
     "output_type": "stream",
     "text": [
      "[ True False False]\n"
     ]
    },
    {
     "data": {
      "text/plain": [
       "(tensor(0.6369, grad_fn=<AddBackward0>),\n",
       " {'ce_loss': 0.5342092514038086,\n",
       "  'gradient_loss_path_0': 0.10012008994817734,\n",
       "  'gradient_loss_path_1': 0.0025249281898140907,\n",
       "  'total_loss': 0.6368542313575745},\n",
       " tensor(0.5342, grad_fn=<NllLossBackward0>))"
      ]
     },
     "execution_count": 11,
     "metadata": {},
     "output_type": "execute_result"
    }
   ],
   "execution_count": 11
  },
  {
   "metadata": {},
   "cell_type": "markdown",
   "source": "## Segment Masks",
   "id": "d53bce720793fa55"
  },
  {
   "metadata": {
    "ExecuteTime": {
     "end_time": "2025-05-07T09:30:10.664075Z",
     "start_time": "2025-05-07T09:30:10.367170Z"
    }
   },
   "cell_type": "code",
   "source": [
    "vidnames = ['3qq031609lA_00002', 'iv0Gu1VXAgc_00167', 'aektxm8cLdo_00000']\n",
    "\n",
    "dataset = Diving48Dataset(\n",
    "    cfg.DATA.DATASET_PATH,\n",
    "    cfg.DATA.NUM_FRAMES,\n",
    "    cfg.SLOWFAST.ALPHA,\n",
    "    transform_fn=get_test_transform(cfg),\n",
    "    mask_transform_fn=get_mask_transform(cfg),\n",
    "    video_ids=vidnames,\n",
    "    loader_mode='jpg',\n",
    "    mask_type='segments'\n",
    ")\n",
    "\n",
    "loader = torch.utils.data.DataLoader(\n",
    "    dataset,\n",
    "    batch_size=cfg.TRAIN.BATCH_SIZE,\n",
    "    shuffle=False,\n",
    "    num_workers=2\n",
    ")\n",
    "\n",
    "x, y, _, _, _, masks = dataset[0]\n",
    "assert masks is not None\n",
    "masks.shape"
   ],
   "id": "abcb4a0cc711497e",
   "outputs": [
    {
     "data": {
      "text/plain": [
       "torch.Size([1, 32, 224, 224])"
      ]
     },
     "execution_count": 12,
     "metadata": {},
     "output_type": "execute_result"
    }
   ],
   "execution_count": 12
  },
  {
   "metadata": {
    "ExecuteTime": {
     "end_time": "2025-05-07T09:30:37.738900Z",
     "start_time": "2025-05-07T09:30:23.147920Z"
    }
   },
   "cell_type": "code",
   "source": "xb, yb, _, masks = dlf.get_batch(iter(loader), device)",
   "id": "446f94ce281a4c57",
   "outputs": [],
   "execution_count": 13
  },
  {
   "metadata": {
    "ExecuteTime": {
     "end_time": "2025-05-07T09:30:40.896521Z",
     "start_time": "2025-05-07T09:30:38.990594Z"
    }
   },
   "cell_type": "code",
   "source": [
    "cfg.EGL.METHOD = 'ogl'\n",
    "cfg.EGL.LOSS_FUNC = 'dice'\n",
    "cfg.GRADCAM.TARGET_LAYERS = ['s5/pathway0_res2', 's5/pathway1_res2']\n",
    "cfg.EGL.WORST_PERFORMER_STRATEGY = 'all'\n",
    "loss_fn = DiceLoss(nn.CrossEntropyLoss())\n",
    "inputs = dlf.to_slowfast_inputs(xb, cfg.SLOWFAST.ALPHA, requires_grad=True)\n",
    "exp = ExplainerStrategy.get_explainer(model, cfg, device)\n",
    "maps, logits = exp(inputs)\n",
    "loss_params = get_loss_params(cfg, maps, inputs, yb, logits, masks=masks)\n",
    "loss, losses = loss_fn(**loss_params)\n",
    "loss, losses"
   ],
   "id": "3a046badc8b7f771",
   "outputs": [
    {
     "name": "stdout",
     "output_type": "stream",
     "text": [
      "[ True  True]\n"
     ]
    },
    {
     "data": {
      "text/plain": [
       "(tensor(2.8309, grad_fn=<AddBackward0>),\n",
       " {'ce_loss': tensor(1.9014, grad_fn=<MulBackward0>),\n",
       "  'dice_loss': tensor(0.9295),\n",
       "  'total_loss': tensor(2.8309, grad_fn=<AddBackward0>)})"
      ]
     },
     "execution_count": 14,
     "metadata": {},
     "output_type": "execute_result"
    }
   ],
   "execution_count": 14
  },
  {
   "metadata": {},
   "cell_type": "markdown",
   "source": [
    "## Classify Mask\n",
    "For all wrong classifications we generate a mask"
   ],
   "id": "e44ae11bb0670150"
  },
  {
   "metadata": {
    "ExecuteTime": {
     "end_time": "2025-05-07T09:28:21.134372Z",
     "start_time": "2025-05-07T09:28:20.224575Z"
    }
   },
   "cell_type": "code",
   "source": [
    "vidnames = ['3qq031609lA_00002', 'iv0Gu1VXAgc_00167', 'aektxm8cLdo_00000']\n",
    "\n",
    "dataset = Diving48Dataset(\n",
    "    cfg.DATA.DATASET_PATH,\n",
    "    cfg.DATA.NUM_FRAMES,\n",
    "    cfg.SLOWFAST.ALPHA,\n",
    "    transform_fn=get_test_transform(cfg),\n",
    "    mask_transform_fn=get_mask_transform(cfg),\n",
    "    video_ids=vidnames,\n",
    "    loader_mode='mp4'\n",
    ")\n",
    "\n",
    "loader = torch.utils.data.DataLoader(\n",
    "    dataset,\n",
    "    batch_size=4,\n",
    "    shuffle=False,\n",
    "    num_workers=2\n",
    ")\n",
    "\n",
    "loader_iter = iter(loader)\n",
    "\n",
    "x, y, _, _, _, masks = dataset[0]\n",
    "assert masks is not None"
   ],
   "id": "1c7456e5ac1b251c",
   "outputs": [],
   "execution_count": 2
  },
  {
   "metadata": {
    "ExecuteTime": {
     "end_time": "2025-05-07T09:28:24.735269Z",
     "start_time": "2025-05-07T09:28:21.766915Z"
    }
   },
   "cell_type": "code",
   "source": "xb, yb, *_ = next(loader_iter)",
   "id": "7eb4d8d4ce59d896",
   "outputs": [],
   "execution_count": 3
  },
  {
   "metadata": {
    "ExecuteTime": {
     "end_time": "2025-05-07T09:28:31.434371Z",
     "start_time": "2025-05-07T09:28:25.896240Z"
    }
   },
   "cell_type": "code",
   "source": [
    "cfg.EGL.METHOD = 'gradcam'\n",
    "cfg.EGL.LOSS_FUNC = 'rrr_v2'\n",
    "cfg.GRADCAM.TARGET_LAYERS = ['s5/pathway0_res2', 's5/pathway1_res2']\n",
    "cfg.EGL.WORST_PERFORMER_STRATEGY = 'classify'\n",
    "loss_fn = DualPathRRRLossV2(lambdas=[0.01, 0.01])\n",
    "inputs = dlf.to_slowfast_inputs(xb, cfg.SLOWFAST.ALPHA, requires_grad=True)\n",
    "exp = ExplainerStrategy.get_explainer(model, cfg, device)\n",
    "maps, logits = exp(inputs)\n",
    "loss_params = get_loss_params(cfg, maps, inputs, yb, logits)\n",
    "loss, losses = loss_fn(**loss_params)\n",
    "loss, losses"
   ],
   "id": "5cb4af21d20cdecb",
   "outputs": [
    {
     "name": "stdout",
     "output_type": "stream",
     "text": [
      "[False False  True]\n"
     ]
    },
    {
     "data": {
      "text/plain": [
       "(tensor(2.1771, grad_fn=<AddBackward0>),\n",
       " {'ce_loss': 1.9427763223648071,\n",
       "  'gradient_loss_path_0': 0.21656763553619385,\n",
       "  'gradient_loss_path_1': 0.01779884658753872,\n",
       "  'total_loss': 2.177142858505249})"
      ]
     },
     "execution_count": 4,
     "metadata": {},
     "output_type": "execute_result"
    }
   ],
   "execution_count": 4
  }
 ],
 "metadata": {
  "kernelspec": {
   "display_name": "Python 3",
   "language": "python",
   "name": "python3"
  },
  "language_info": {
   "codemirror_mode": {
    "name": "ipython",
    "version": 2
   },
   "file_extension": ".py",
   "mimetype": "text/x-python",
   "name": "python",
   "nbconvert_exporter": "python",
   "pygments_lexer": "ipython2",
   "version": "2.7.6"
  }
 },
 "nbformat": 4,
 "nbformat_minor": 5
}
