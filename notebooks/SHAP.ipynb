{
 "cells": [
  {
   "cell_type": "code",
   "id": "initial_id",
   "metadata": {
    "collapsed": true,
    "ExecuteTime": {
     "end_time": "2025-01-08T15:32:34.902607Z",
     "start_time": "2025-01-08T15:32:32.932735Z"
    }
   },
   "source": [
    "%load_ext autoreload\n",
    "%autoreload 2\n",
    "import torch\n",
    "import numpy as np\n",
    "from deeplift_shap import DeepLiftShap\n",
    "\n",
    "from diveslowlearnfast.train import helper as train_helper\n",
    "from diveslowlearnfast.models import SlowFast, load_checkpoint\n",
    "from diveslowlearnfast.config import Config\n",
    "\n",
    "import logging"
   ],
   "outputs": [],
   "execution_count": 1
  },
  {
   "metadata": {
    "ExecuteTime": {
     "end_time": "2025-01-08T15:33:27.705373Z",
     "start_time": "2025-01-08T15:33:26.624996Z"
    }
   },
   "cell_type": "code",
   "source": [
    "logging.basicConfig(level=logging.DEBUG)\n",
    "\n",
    "cfg = Config()\n",
    "cfg.DATA.DATASET_PATH = '/Users/youritomassen/Projects/xai/data/Diving48/'\n",
    "cfg.TRAIN.BATCH_SIZE = 1\n",
    "cfg.DATA.NUM_FRAMES = 16\n",
    "device = torch.device('cpu')\n",
    "model = SlowFast(cfg)\n",
    "_, optimiser, *_ = train_helper.get_train_objects(cfg, model)\n",
    "model, *_ = load_checkpoint(model, optimiser, '../misc/checkpoint.pth', device)\n",
    "dl = DeepLiftShap(model)\n",
    "\n",
    "test_loader = train_helper.get_test_objects(cfg)"
   ],
   "id": "744f869e46e75065",
   "outputs": [
    {
     "name": "stdout",
     "output_type": "stream",
     "text": [
      "\n"
     ]
    }
   ],
   "execution_count": 6
  },
  {
   "metadata": {
    "ExecuteTime": {
     "end_time": "2025-01-08T15:32:49.344503Z",
     "start_time": "2025-01-08T15:32:36.192913Z"
    }
   },
   "cell_type": "code",
   "source": [
    "x, y, *_ = next(iter(test_loader))\n",
    "\n",
    "x.shape, y.shape"
   ],
   "id": "742ae85aeeb65846",
   "outputs": [
    {
     "data": {
      "text/plain": [
       "(torch.Size([1, 3, 16, 256, 256]), torch.Size([1]))"
      ]
     },
     "execution_count": 3,
     "metadata": {},
     "output_type": "execute_result"
    }
   ],
   "execution_count": 3
  },
  {
   "metadata": {
    "ExecuteTime": {
     "end_time": "2025-01-08T15:32:49.436571Z",
     "start_time": "2025-01-08T15:32:49.413057Z"
    }
   },
   "cell_type": "code",
   "source": [
    "x_fast = x[:]\n",
    "# reduce the number of frames by the alpha ratio\n",
    "# B x C x T / alpha x H x W\n",
    "B, C, T, H, W = x.shape\n",
    "x_slow = x[:, :, ::cfg.SLOWFAST.ALPHA]\n",
    "input = [x_slow, x_fast]"
   ],
   "id": "54e931e432a36bc4",
   "outputs": [],
   "execution_count": 4
  },
  {
   "metadata": {
    "ExecuteTime": {
     "end_time": "2025-01-08T15:46:33.845129Z",
     "start_time": "2025-01-08T15:33:48.838118Z"
    }
   },
   "cell_type": "code",
   "source": [
    "# generate 100 baseline samples with black pixels\n",
    "baseline_values = torch.zeros((100, *x.shape[1:]))\n",
    "baseline_dist_fast = baseline_values[:]\n",
    "baseline_dist_slow = baseline_values[:, :, ::cfg.SLOWFAST.ALPHA]\n",
    "baselines = [baseline_dist_slow, baseline_dist_fast]\n",
    "attributions_slow, attributions_fast = dl.attribute(input, baselines, y, n_samples=20)\n",
    "\n",
    "attributions_slow.shape, attributions_fast.shape"
   ],
   "id": "42854901a3c179d0",
   "outputs": [
    {
     "name": "stderr",
     "output_type": "stream",
     "text": [
      "DEBUG:deeplift_shap:Sampling 20 background samples\n",
      "DEBUG:deeplift_shap:Scaling input tensors and background samples using DeepLIFT rescale rule\n",
      "DEBUG:deeplift_shap:Computing DeepLIFT attributions\n",
      "DEBUG:deeplift_shap:Computing model outputs, input type = <class 'list'>\n"
     ]
    }
   ],
   "execution_count": null
  }
 ],
 "metadata": {
  "kernelspec": {
   "display_name": "Python 3",
   "language": "python",
   "name": "python3"
  },
  "language_info": {
   "codemirror_mode": {
    "name": "ipython",
    "version": 2
   },
   "file_extension": ".py",
   "mimetype": "text/x-python",
   "name": "python",
   "nbconvert_exporter": "python",
   "pygments_lexer": "ipython2",
   "version": "2.7.6"
  }
 },
 "nbformat": 4,
 "nbformat_minor": 5
}
